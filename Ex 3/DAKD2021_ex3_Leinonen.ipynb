{
  "cells": [
    {
      "cell_type": "markdown",
      "metadata": {
        "id": "Rpio-nMAoDwq"
      },
      "source": [
        "# Data Analysis and Knowledge Discovery: Exercise 3, Supervised learning"
      ]
    },
    {
      "cell_type": "markdown",
      "metadata": {
        "id": "90c9fF6woDwr"
      },
      "source": [
        "This is the template for the third exercise. The idea of this exercise is to apply supervised learning to predict the ship type using certain attributes (speed, destination harbour...) and a K nearest neighbors (kNN) classifier.\n",
        "\n",
        "### General guidance for exercises \n",
        "\n",
        "- Answer **all** questions below, even if you can't get your script to fully work\n",
        "- Write clear and easily readable code, include explanations what your code does\n",
        "- Make informative illustrations: include labels for x and y axes, legends and captions for your plots\n",
        "- Before saving the ipynb file (and possible printing) run: \"Restart & Run all\", to make sure you return a file that works as expected.\n",
        "- Grading: *Fail*/*Pass*/*Pass with honors* (+1)\n",
        "- +1 bonus point (grading *Pass with honors*) requires a **completely** correct solution and also thorough analysis. \n",
        "- Note! Don't leave it to the last moment! No feedback service during weekends.\n",
        "- Using the colors for titles in markdown makes the document more readable and easier to check. "
      ]
    },
    {
      "cell_type": "markdown",
      "metadata": {
        "id": "K1LHjhlHZwBN"
      },
      "source": [
        "- This excercise is a bit more freeform than the last one and you don't have to stick to only the cells that are already in the notebook - you can make more if you need to, but it is advisable to comment on new cells what the cell is related to. \n",
        "- There are also added summaries of whats included inthe subparts of exercises  just to help you get a better picture of what is required. You will still answer these excercises under their own titles."
      ]
    },
    {
      "cell_type": "markdown",
      "metadata": {
        "id": "2I2WLapM3BPc"
      },
      "source": [
        "### Gather **all** packages needed for this notebook here:\n",
        "- you can use other packages as well, but this excercise can be completed with those below"
      ]
    },
    {
      "cell_type": "code",
      "execution_count": null,
      "metadata": {
        "id": "iypIAVquoDws"
      },
      "outputs": [],
      "source": [
        "import numpy as np\n",
        "import pandas as pd\n",
        "import seaborn as sns\n",
        "import matplotlib.pyplot as plt\n",
        "import math as math\n",
        "import sklearn as sklearn\n",
        "import random as random\n",
        "from scipy import stats\n",
        "from sklearn.preprocessing import StandardScaler, label_binarize\n",
        "from sklearn.model_selection import train_test_split\n",
        "from sklearn.neighbors import KNeighborsClassifier\n",
        "from sklearn import metrics\n",
        "from sklearn.model_selection import LeaveOneOut, cross_val_score, cross_val_predict, cross_validate\n",
        "from sklearn import preprocessing"
      ]
    },
    {
      "cell_type": "markdown",
      "metadata": {
        "id": "ieiIXrrwoDws"
      },
      "source": [
        "________\n",
        "## <font color = dimgrey> Data import </font> \n"
      ]
    },
    {
      "cell_type": "code",
      "execution_count": null,
      "metadata": {
        "id": "voWS0_X6ZwBR"
      },
      "outputs": [],
      "source": [
        "data_path = \"https://raw.githubusercontent.com/vajnie/DADK_2021/main/shipdata_2021.csv\""
      ]
    },
    {
      "cell_type": "code",
      "execution_count": null,
      "metadata": {
        "id": "_Swh8BxGoDwu"
      },
      "outputs": [],
      "source": [
        "#Import the data here\n",
        "data = pd.read_csv(data_path) #data is presumed to be in the same folder. "
      ]
    },
    {
      "cell_type": "markdown",
      "metadata": {
        "id": "Wte8FnIsoDwv"
      },
      "source": [
        "_______________\n",
        "## <font color = dimgrey> 1) Data preprocessing\n",
        "Below are all the questions related to this topic, but you should put them under their own respective titles that are found below."
      ]
    },
    {
      "cell_type": "markdown",
      "metadata": {
        "id": "d9plIRaMoDww"
      },
      "source": [
        "- a) First, find out how many different destinations there are in the data. Do you need to make any preprocessing? **1p** <br>\n",
        "- b) Destination harbor is a categorical variable. It needs to be converted into a numerical representation. Explain, why do you need to make this step? You can use get_dummies from pandas to implement one-hot coding for categorical features **1p**\n",
        "\n",
        "- c) Plot Gross tonnage versus the ship Length. Use different colors for different ship types. According to the plot, there is one <b> clear outlier. </b>  Correct the outlying value by changing it to the value 326 and rerun the plot after you have made the correction. **1p**\n",
        "- d) It is good to exploit domain knowledge and make some reasonable transformation to the feature values to improve the expected results and/or to avoid redundancy. Find out what gross tonnage means. Make some transformation to Length values to acquire a linear relationship between the transformed length and Gross tonnage values. You can find the needed information  https://en.wikipedia.org/wiki/Gross_tonnage. Look at the formula and think how you can get the two variables similarly scaled. If you are having trouble, just experiment with different transformations before asking help. By plotting you can see what the relationship looks like after a transformation you have tried **1p**\n",
        "- e) The numerical variables have quite different ranges. To ensure that all variables can have the same importance on the model, perform Z-score standardization. Perform it for speed, the ***transformed length*** variable, and breadth **1p**\n",
        "_______________________"
      ]
    },
    {
      "cell_type": "markdown",
      "metadata": {
        "id": "hSCTfqgpoDwx"
      },
      "source": [
        "#### <font color = dimgrey> a) Find out how many different destinations there are in the data. Are there any mistakes and do you need to do any preprocessing? Give your code and answer below **1p** </font>"
      ]
    },
    {
      "cell_type": "code",
      "execution_count": null,
      "metadata": {
        "colab": {
          "base_uri": "https://localhost:8080/",
          "height": 855
        },
        "id": "akrvbi4xoDwy",
        "outputId": "765c7543-3ec7-4761-daee-b1c80c2a75c0"
      },
      "outputs": [
        {
          "name": "stdout",
          "output_type": "stream",
          "text": [
            "----Before preprocessing----\n",
            "Different destinations are ['Hamina' 'Helsinki' 'Kotka' 'Kronshtadt' 'Kunda' 'Muuga' 'Paldiski'\n",
            " 'Porvoo' 'Primorsk' 'Sillamäe' 'Sillamae' 'Tallinn' 'Ust-Luga'\n",
            " 'Valko-Loviisa' 'Viipuri' 'Vuosaari' 'Vysotsk'] and the number of them is 17\n"
          ]
        },
        {
          "data": {
            "text/html": [
              "<div>\n",
              "<style scoped>\n",
              "    .dataframe tbody tr th:only-of-type {\n",
              "        vertical-align: middle;\n",
              "    }\n",
              "\n",
              "    .dataframe tbody tr th {\n",
              "        vertical-align: top;\n",
              "    }\n",
              "\n",
              "    .dataframe thead th {\n",
              "        text-align: right;\n",
              "    }\n",
              "</style>\n",
              "<table border=\"1\" class=\"dataframe\">\n",
              "  <thead>\n",
              "    <tr style=\"text-align: right;\">\n",
              "      <th></th>\n",
              "      <th>MMSI</th>\n",
              "      <th>Speed</th>\n",
              "      <th>COG</th>\n",
              "      <th>Destination</th>\n",
              "      <th>Ship_type</th>\n",
              "      <th>Gross_tonnage</th>\n",
              "      <th>Length</th>\n",
              "      <th>Breadth</th>\n",
              "    </tr>\n",
              "  </thead>\n",
              "  <tbody>\n",
              "    <tr>\n",
              "      <th>76</th>\n",
              "      <td>248792000</td>\n",
              "      <td>11.4175</td>\n",
              "      <td>71.6657</td>\n",
              "      <td>Sillamäe</td>\n",
              "      <td>Tanker</td>\n",
              "      <td>2627</td>\n",
              "      <td>92.86</td>\n",
              "      <td>14.1</td>\n",
              "    </tr>\n",
              "    <tr>\n",
              "      <th>77</th>\n",
              "      <td>353566000</td>\n",
              "      <td>12.4437</td>\n",
              "      <td>80.1423</td>\n",
              "      <td>Sillamäe</td>\n",
              "      <td>Tanker</td>\n",
              "      <td>17712</td>\n",
              "      <td>169.90</td>\n",
              "      <td>25.4</td>\n",
              "    </tr>\n",
              "  </tbody>\n",
              "</table>\n",
              "</div>"
            ],
            "text/plain": [
              "         MMSI    Speed      COG  ... Gross_tonnage  Length  Breadth\n",
              "76  248792000  11.4175  71.6657  ...          2627   92.86     14.1\n",
              "77  353566000  12.4437  80.1423  ...         17712  169.90     25.4\n",
              "\n",
              "[2 rows x 8 columns]"
            ]
          },
          "metadata": {},
          "output_type": "display_data"
        },
        {
          "data": {
            "text/html": [
              "<div>\n",
              "<style scoped>\n",
              "    .dataframe tbody tr th:only-of-type {\n",
              "        vertical-align: middle;\n",
              "    }\n",
              "\n",
              "    .dataframe tbody tr th {\n",
              "        vertical-align: top;\n",
              "    }\n",
              "\n",
              "    .dataframe thead th {\n",
              "        text-align: right;\n",
              "    }\n",
              "</style>\n",
              "<table border=\"1\" class=\"dataframe\">\n",
              "  <thead>\n",
              "    <tr style=\"text-align: right;\">\n",
              "      <th></th>\n",
              "      <th>MMSI</th>\n",
              "      <th>Speed</th>\n",
              "      <th>COG</th>\n",
              "      <th>Destination</th>\n",
              "      <th>Ship_type</th>\n",
              "      <th>Gross_tonnage</th>\n",
              "      <th>Length</th>\n",
              "      <th>Breadth</th>\n",
              "    </tr>\n",
              "  </thead>\n",
              "  <tbody>\n",
              "    <tr>\n",
              "      <th>78</th>\n",
              "      <td>374538000</td>\n",
              "      <td>10.0683</td>\n",
              "      <td>94.5346</td>\n",
              "      <td>Sillamae</td>\n",
              "      <td>Cargo</td>\n",
              "      <td>6354</td>\n",
              "      <td>108.5</td>\n",
              "      <td>18.6</td>\n",
              "    </tr>\n",
              "  </tbody>\n",
              "</table>\n",
              "</div>"
            ],
            "text/plain": [
              "         MMSI    Speed      COG  ... Gross_tonnage Length  Breadth\n",
              "78  374538000  10.0683  94.5346  ...          6354  108.5     18.6\n",
              "\n",
              "[1 rows x 8 columns]"
            ]
          },
          "metadata": {},
          "output_type": "display_data"
        },
        {
          "name": "stdout",
          "output_type": "stream",
          "text": [
            "----After preprocessing----\n",
            "Different destinations are ['Hamina' 'Helsinki' 'Kotka' 'Kronshtadt' 'Kunda' 'Muuga' 'Paldiski'\n",
            " 'Porvoo' 'Primorsk' 'Sillamäe' 'Tallinn' 'Ust-Luga' 'Valko-Loviisa'\n",
            " 'Viipuri' 'Vuosaari' 'Vysotsk'] and the number of them is 16\n",
            "--------------------------\n",
            "<class 'pandas.core.frame.DataFrame'>\n",
            "RangeIndex: 134 entries, 0 to 133\n",
            "Data columns (total 8 columns):\n",
            " #   Column         Non-Null Count  Dtype  \n",
            "---  ------         --------------  -----  \n",
            " 0   MMSI           134 non-null    int64  \n",
            " 1   Speed          134 non-null    float64\n",
            " 2   COG            134 non-null    float64\n",
            " 3   Destination    134 non-null    object \n",
            " 4   Ship_type      134 non-null    object \n",
            " 5   Gross_tonnage  134 non-null    int64  \n",
            " 6   Length         134 non-null    float64\n",
            " 7   Breadth        134 non-null    float64\n",
            "dtypes: float64(4), int64(2), object(2)\n",
            "memory usage: 8.5+ KB\n",
            "--------------------------\n",
            "Any NaN values?\n",
            " MMSI             False\n",
            "Speed            False\n",
            "COG              False\n",
            "Destination      False\n",
            "Ship_type        False\n",
            "Gross_tonnage    False\n",
            "Length           False\n",
            "Breadth          False\n",
            "dtype: bool\n",
            "--------------------------\n",
            "Any duplicates? False\n"
          ]
        }
      ],
      "source": [
        "### Code for 1.a) \n",
        "# Let's make the dataframe out of the data for preprocessing\n",
        "shipframe = pd.DataFrame(data)\n",
        "\n",
        "# Counting all the different destinations for Destination column\n",
        "# https://pandas.pydata.org/docs/reference/api/pandas.unique.html\n",
        "# df.unique() to get hash table-based unique\n",
        "uniqueDestinations = shipframe['Destination'].unique()\n",
        "uniqueDestinationNumber = shipframe['Destination'].nunique()\n",
        "print('----Before preprocessing----')\n",
        "print('Different destinations are', uniqueDestinations, 'and the number of them is', uniqueDestinationNumber)\n",
        "\n",
        "# As we can see drom the print, there are two destinations Sillamäe and Sillamae which mean the same city in Estonia\n",
        "display(shipframe[shipframe['Destination'] == 'Sillamäe'])\n",
        "display(shipframe[shipframe['Destination'] == 'Sillamae'])\n",
        "\n",
        "# There are two Sillamäe and one Sillamae so let's assume the format of SillamÄe is correct\n",
        "# https://pandas.pydata.org/docs/reference/api/pandas.DataFrame.replace.html\n",
        "# Replacing the incorrect value with a correct one by using df['<col name>'].replace(<to_replace>, <value>)\n",
        "# inplace=True to perform operation inplace\n",
        "shipframe['Destination'].replace('Sillamae', 'Sillamäe', inplace=True)\n",
        "\n",
        "# Let's check the unique values again and see if there are any mistakes left\n",
        "correctedDestinations = shipframe['Destination'].unique()\n",
        "correctedNumber = shipframe['Destination'].nunique()\n",
        "print('----After preprocessing----')\n",
        "print('Different destinations are', correctedDestinations, 'and the number of them is', correctedNumber)\n",
        "\n",
        "# And then some other checks\n",
        "# https://pandas.pydata.org/pandas-docs/stable/reference/api/pandas.DataFrame.info.html?highlight=info#pandas.DataFrame.info\n",
        "# to print a concise summary\n",
        "print('--------------------------')\n",
        "shipframe.info()\n",
        "print('--------------------------')\n",
        "# https://pandas.pydata.org/pandas-docs/stable/reference/api/pandas.DataFrame.duplicated.html?highlight=duplicate\n",
        "# to check duplicates\n",
        "print('Any NaN values?\\n', shipframe.isna().any()) #.any() to not get the whole 134 value list\n",
        "print('--------------------------')\n",
        "print('Any duplicates?', shipframe.duplicated().any()) #.any() to not get the whole 134 value list"
      ]
    },
    {
      "cell_type": "markdown",
      "metadata": {
        "id": "NYpiuqhDZwBW"
      },
      "source": [
        "<font color = red> As I wrote in the comments, there were two values -- Sillamäe and Sillamae -- which were actually meaning the same city in Estonia. There were two Sillamäe and one Sillamae, and since the city is correclty written with the letter ä, I corrected the one with the letter a.\n",
        "\n",
        "<font color = red>There are no missing values or duplicates as can be seen from the prints."
      ]
    },
    {
      "cell_type": "markdown",
      "metadata": {
        "id": "9BrZ_bsToDwy"
      },
      "source": [
        "____________\n",
        "#### <font color = dimgrey> b) Destination harbor is a categorical variable. It needs to be somehow converted into a numerical expression. Explain, why do you need to make this step? \n",
        "You can use get_dummies from pandas to implement onehot coding for categorical features **1p**"
      ]
    },
    {
      "cell_type": "code",
      "execution_count": null,
      "metadata": {
        "colab": {
          "base_uri": "https://localhost:8080/",
          "height": 556
        },
        "id": "LrrstGzeoDwz",
        "outputId": "183334d4-418b-445a-e653-d9fefa6d7dbb"
      },
      "outputs": [
        {
          "name": "stdout",
          "output_type": "stream",
          "text": [
            "Hamina           19\n",
            "Porvoo           18\n",
            "Ust-Luga         16\n",
            "Muuga            12\n",
            "Tallinn          12\n",
            "Valko-Loviisa     9\n",
            "Paldiski          9\n",
            "Kotka             8\n",
            "Vuosaari          7\n",
            "Viipuri           6\n",
            "Vysotsk           5\n",
            "Primorsk          5\n",
            "Sillamäe          3\n",
            "Kronshtadt        2\n",
            "Kunda             2\n",
            "Helsinki          1\n",
            "Name: Destination, dtype: int64\n"
          ]
        },
        {
          "data": {
            "text/html": [
              "<div>\n",
              "<style scoped>\n",
              "    .dataframe tbody tr th:only-of-type {\n",
              "        vertical-align: middle;\n",
              "    }\n",
              "\n",
              "    .dataframe tbody tr th {\n",
              "        vertical-align: top;\n",
              "    }\n",
              "\n",
              "    .dataframe thead th {\n",
              "        text-align: right;\n",
              "    }\n",
              "</style>\n",
              "<table border=\"1\" class=\"dataframe\">\n",
              "  <thead>\n",
              "    <tr style=\"text-align: right;\">\n",
              "      <th></th>\n",
              "      <th>MMSI</th>\n",
              "      <th>Speed</th>\n",
              "      <th>COG</th>\n",
              "      <th>Ship_type</th>\n",
              "      <th>Gross_tonnage</th>\n",
              "      <th>Length</th>\n",
              "      <th>Breadth</th>\n",
              "      <th>Destination_Hamina</th>\n",
              "      <th>Destination_Helsinki</th>\n",
              "      <th>Destination_Kotka</th>\n",
              "      <th>Destination_Kronshtadt</th>\n",
              "      <th>Destination_Kunda</th>\n",
              "      <th>Destination_Muuga</th>\n",
              "      <th>Destination_Paldiski</th>\n",
              "      <th>Destination_Porvoo</th>\n",
              "      <th>Destination_Primorsk</th>\n",
              "      <th>Destination_Sillamäe</th>\n",
              "      <th>Destination_Tallinn</th>\n",
              "      <th>Destination_Ust-Luga</th>\n",
              "      <th>Destination_Valko-Loviisa</th>\n",
              "      <th>Destination_Viipuri</th>\n",
              "      <th>Destination_Vuosaari</th>\n",
              "      <th>Destination_Vysotsk</th>\n",
              "    </tr>\n",
              "  </thead>\n",
              "  <tbody>\n",
              "    <tr>\n",
              "      <th>0</th>\n",
              "      <td>212209000</td>\n",
              "      <td>10.1377</td>\n",
              "      <td>64.3074</td>\n",
              "      <td>Cargo</td>\n",
              "      <td>3416</td>\n",
              "      <td>94.91</td>\n",
              "      <td>15.34</td>\n",
              "      <td>1</td>\n",
              "      <td>0</td>\n",
              "      <td>0</td>\n",
              "      <td>0</td>\n",
              "      <td>0</td>\n",
              "      <td>0</td>\n",
              "      <td>0</td>\n",
              "      <td>0</td>\n",
              "      <td>0</td>\n",
              "      <td>0</td>\n",
              "      <td>0</td>\n",
              "      <td>0</td>\n",
              "      <td>0</td>\n",
              "      <td>0</td>\n",
              "      <td>0</td>\n",
              "      <td>0</td>\n",
              "    </tr>\n",
              "    <tr>\n",
              "      <th>1</th>\n",
              "      <td>212436000</td>\n",
              "      <td>13.5256</td>\n",
              "      <td>77.0755</td>\n",
              "      <td>Tanker</td>\n",
              "      <td>6280</td>\n",
              "      <td>116.90</td>\n",
              "      <td>18.00</td>\n",
              "      <td>1</td>\n",
              "      <td>0</td>\n",
              "      <td>0</td>\n",
              "      <td>0</td>\n",
              "      <td>0</td>\n",
              "      <td>0</td>\n",
              "      <td>0</td>\n",
              "      <td>0</td>\n",
              "      <td>0</td>\n",
              "      <td>0</td>\n",
              "      <td>0</td>\n",
              "      <td>0</td>\n",
              "      <td>0</td>\n",
              "      <td>0</td>\n",
              "      <td>0</td>\n",
              "      <td>0</td>\n",
              "    </tr>\n",
              "    <tr>\n",
              "      <th>2</th>\n",
              "      <td>219082000</td>\n",
              "      <td>9.9416</td>\n",
              "      <td>74.6762</td>\n",
              "      <td>Tanker</td>\n",
              "      <td>9980</td>\n",
              "      <td>141.20</td>\n",
              "      <td>21.90</td>\n",
              "      <td>1</td>\n",
              "      <td>0</td>\n",
              "      <td>0</td>\n",
              "      <td>0</td>\n",
              "      <td>0</td>\n",
              "      <td>0</td>\n",
              "      <td>0</td>\n",
              "      <td>0</td>\n",
              "      <td>0</td>\n",
              "      <td>0</td>\n",
              "      <td>0</td>\n",
              "      <td>0</td>\n",
              "      <td>0</td>\n",
              "      <td>0</td>\n",
              "      <td>0</td>\n",
              "      <td>0</td>\n",
              "    </tr>\n",
              "    <tr>\n",
              "      <th>3</th>\n",
              "      <td>219083000</td>\n",
              "      <td>11.6038</td>\n",
              "      <td>74.7529</td>\n",
              "      <td>Tanker</td>\n",
              "      <td>9980</td>\n",
              "      <td>141.20</td>\n",
              "      <td>21.60</td>\n",
              "      <td>1</td>\n",
              "      <td>0</td>\n",
              "      <td>0</td>\n",
              "      <td>0</td>\n",
              "      <td>0</td>\n",
              "      <td>0</td>\n",
              "      <td>0</td>\n",
              "      <td>0</td>\n",
              "      <td>0</td>\n",
              "      <td>0</td>\n",
              "      <td>0</td>\n",
              "      <td>0</td>\n",
              "      <td>0</td>\n",
              "      <td>0</td>\n",
              "      <td>0</td>\n",
              "      <td>0</td>\n",
              "    </tr>\n",
              "    <tr>\n",
              "      <th>4</th>\n",
              "      <td>219426000</td>\n",
              "      <td>11.9203</td>\n",
              "      <td>56.3253</td>\n",
              "      <td>Tanker</td>\n",
              "      <td>3219</td>\n",
              "      <td>99.90</td>\n",
              "      <td>15.00</td>\n",
              "      <td>1</td>\n",
              "      <td>0</td>\n",
              "      <td>0</td>\n",
              "      <td>0</td>\n",
              "      <td>0</td>\n",
              "      <td>0</td>\n",
              "      <td>0</td>\n",
              "      <td>0</td>\n",
              "      <td>0</td>\n",
              "      <td>0</td>\n",
              "      <td>0</td>\n",
              "      <td>0</td>\n",
              "      <td>0</td>\n",
              "      <td>0</td>\n",
              "      <td>0</td>\n",
              "      <td>0</td>\n",
              "    </tr>\n",
              "  </tbody>\n",
              "</table>\n",
              "</div>"
            ],
            "text/plain": [
              "        MMSI    Speed  ...  Destination_Vuosaari Destination_Vysotsk\n",
              "0  212209000  10.1377  ...                     0                   0\n",
              "1  212436000  13.5256  ...                     0                   0\n",
              "2  219082000   9.9416  ...                     0                   0\n",
              "3  219083000  11.6038  ...                     0                   0\n",
              "4  219426000  11.9203  ...                     0                   0\n",
              "\n",
              "[5 rows x 23 columns]"
            ]
          },
          "execution_count": 175,
          "metadata": {},
          "output_type": "execute_result"
        }
      ],
      "source": [
        "### Code for 1.b)\n",
        "\n",
        "# For fun, let's check how many different destinations we have (classification and prediction in mind)\n",
        "# Let's do this before one-hot encoding so we can do it simply\n",
        "print(shipframe['Destination'].value_counts())\n",
        "\n",
        "# https://pandas.pydata.org/docs/reference/api/pandas.get_dummies.html\n",
        "# .get_dummies() to convert categorical variable into dummy or indicator variables\n",
        "\n",
        "shipframe = pd.get_dummies(shipframe, columns=['Destination'])\n",
        "shipframe.head()"
      ]
    },
    {
      "cell_type": "markdown",
      "metadata": {
        "id": "EnunTfC_ZwBY"
      },
      "source": [
        "<font color = red> Destination is a nominal feature, meaning it's labeled without any order of precedence. There are 16 different destinations in the data which we humans can associate and understand quite easily, but for the ML model that would be difficult to differentiate them.\n",
        "\n",
        "<font color = red>As Airola and Pathak mention, some machine learning models are algebraic, such as SVM and regression. Thus, they can handle only numerical inputs and that's why categorical attributes need to be transformed into numerical ones. Some ML packages and libraries might make this transformation (categorical into numeric) automatically based on default embedding method, but not all. \n",
        "\n",
        "\n",
        "-----\n",
        "Airola, A. 2021. Data preparation. Lecture notes.\n",
        "\n",
        "Pathak, M. 2020. Handling Categorical Data in Python. Datacamp Tutorials. https://www.datacamp.com/community/tutorials/categorical-data (accessed: 23.11.2021)"
      ]
    },
    {
      "cell_type": "markdown",
      "metadata": {
        "id": "3rEY4Vf6oDwz"
      },
      "source": [
        "_______________\n",
        "####  <font color = dimgrey> c) Plot Gross tonnage versus the ship Length. \n",
        "\n",
        "- Use different colors for different ship types. According to the plot, there is one <b> clear </b> outlier. <b> Correct the outlying value by changing it to the value 326 </b> and rerun the plot after you have made the correction. **1p**\n",
        "- If you want to do things very nicely you could wrap the plotting in a function so you don't paste the same code twice, but this is not required."
      ]
    },
    {
      "cell_type": "code",
      "execution_count": null,
      "metadata": {
        "colab": {
          "base_uri": "https://localhost:8080/",
          "height": 518
        },
        "id": "q2rk7xP1oDwz",
        "outputId": "ed66068a-0945-4308-c975-6e70cc51519d"
      },
      "outputs": [
        {
          "data": {
            "image/png": "[encoded data removed]",
            "text/plain": [
              "<Figure size 576x576 with 1 Axes>"
            ]
          },
          "metadata": {},
          "output_type": "display_data"
        }
      ],
      "source": [
        "### Code for 1 c) plot with the outlier \n",
        "# https://seaborn.pydata.org/generated/seaborn.scatterplot.html\n",
        "# x, y axes Gross_tonnage and Length, hue for getting different ship types\n",
        "ax = sns.scatterplot(x=shipframe['Gross_tonnage'], y=shipframe['Length'], hue=shipframe['Ship_type'])\n",
        "ax.set_title('Gross tonnage vs Length (with outlier)') # to set title for the scatterplot\n",
        "\n",
        "plt.legend(loc='lower right', title='Ship type') #to get the legend to lower right\n",
        "plt.show()"
      ]
    },
    {
      "cell_type": "code",
      "execution_count": null,
      "metadata": {
        "colab": {
          "base_uri": "https://localhost:8080/",
          "height": 599
        },
        "id": "KbFj25Z1oDw0",
        "outputId": "1142243f-2ed8-4a09-90fd-364a65000c11"
      },
      "outputs": [
        {
          "data": {
            "text/html": [
              "<div>\n",
              "<style scoped>\n",
              "    .dataframe tbody tr th:only-of-type {\n",
              "        vertical-align: middle;\n",
              "    }\n",
              "\n",
              "    .dataframe tbody tr th {\n",
              "        vertical-align: top;\n",
              "    }\n",
              "\n",
              "    .dataframe thead th {\n",
              "        text-align: right;\n",
              "    }\n",
              "</style>\n",
              "<table border=\"1\" class=\"dataframe\">\n",
              "  <thead>\n",
              "    <tr style=\"text-align: right;\">\n",
              "      <th></th>\n",
              "      <th>MMSI</th>\n",
              "      <th>Speed</th>\n",
              "      <th>COG</th>\n",
              "      <th>Ship_type</th>\n",
              "      <th>Gross_tonnage</th>\n",
              "      <th>Length</th>\n",
              "      <th>Breadth</th>\n",
              "      <th>Destination_Hamina</th>\n",
              "      <th>Destination_Helsinki</th>\n",
              "      <th>Destination_Kotka</th>\n",
              "      <th>Destination_Kronshtadt</th>\n",
              "      <th>Destination_Kunda</th>\n",
              "      <th>Destination_Muuga</th>\n",
              "      <th>Destination_Paldiski</th>\n",
              "      <th>Destination_Porvoo</th>\n",
              "      <th>Destination_Primorsk</th>\n",
              "      <th>Destination_Sillamäe</th>\n",
              "      <th>Destination_Tallinn</th>\n",
              "      <th>Destination_Ust-Luga</th>\n",
              "      <th>Destination_Valko-Loviisa</th>\n",
              "      <th>Destination_Viipuri</th>\n",
              "      <th>Destination_Vuosaari</th>\n",
              "      <th>Destination_Vysotsk</th>\n",
              "    </tr>\n",
              "  </thead>\n",
              "  <tbody>\n",
              "    <tr>\n",
              "      <th>19</th>\n",
              "      <td>230044260</td>\n",
              "      <td>8.7386</td>\n",
              "      <td>85.4233</td>\n",
              "      <td>Tug</td>\n",
              "      <td>100</td>\n",
              "      <td>15.00</td>\n",
              "      <td>5.00</td>\n",
              "      <td>0</td>\n",
              "      <td>1</td>\n",
              "      <td>0</td>\n",
              "      <td>0</td>\n",
              "      <td>0</td>\n",
              "      <td>0</td>\n",
              "      <td>0</td>\n",
              "      <td>0</td>\n",
              "      <td>0</td>\n",
              "      <td>0</td>\n",
              "      <td>0</td>\n",
              "      <td>0</td>\n",
              "      <td>0</td>\n",
              "      <td>0</td>\n",
              "      <td>0</td>\n",
              "      <td>0</td>\n",
              "    </tr>\n",
              "    <tr>\n",
              "      <th>37</th>\n",
              "      <td>276832000</td>\n",
              "      <td>9.7647</td>\n",
              "      <td>109.5592</td>\n",
              "      <td>Tug</td>\n",
              "      <td>286</td>\n",
              "      <td>33.30</td>\n",
              "      <td>9.22</td>\n",
              "      <td>0</td>\n",
              "      <td>0</td>\n",
              "      <td>0</td>\n",
              "      <td>0</td>\n",
              "      <td>0</td>\n",
              "      <td>1</td>\n",
              "      <td>0</td>\n",
              "      <td>0</td>\n",
              "      <td>0</td>\n",
              "      <td>0</td>\n",
              "      <td>0</td>\n",
              "      <td>0</td>\n",
              "      <td>0</td>\n",
              "      <td>0</td>\n",
              "      <td>0</td>\n",
              "      <td>0</td>\n",
              "    </tr>\n",
              "    <tr>\n",
              "      <th>45</th>\n",
              "      <td>230182000</td>\n",
              "      <td>9.9123</td>\n",
              "      <td>130.6157</td>\n",
              "      <td>Tug</td>\n",
              "      <td>298</td>\n",
              "      <td>30.99</td>\n",
              "      <td>10.49</td>\n",
              "      <td>0</td>\n",
              "      <td>0</td>\n",
              "      <td>0</td>\n",
              "      <td>0</td>\n",
              "      <td>0</td>\n",
              "      <td>0</td>\n",
              "      <td>1</td>\n",
              "      <td>0</td>\n",
              "      <td>0</td>\n",
              "      <td>0</td>\n",
              "      <td>0</td>\n",
              "      <td>0</td>\n",
              "      <td>0</td>\n",
              "      <td>0</td>\n",
              "      <td>0</td>\n",
              "      <td>0</td>\n",
              "    </tr>\n",
              "    <tr>\n",
              "      <th>48</th>\n",
              "      <td>230984090</td>\n",
              "      <td>8.1728</td>\n",
              "      <td>129.4353</td>\n",
              "      <td>Tug</td>\n",
              "      <td>107</td>\n",
              "      <td>23.80</td>\n",
              "      <td>7.00</td>\n",
              "      <td>0</td>\n",
              "      <td>0</td>\n",
              "      <td>0</td>\n",
              "      <td>0</td>\n",
              "      <td>0</td>\n",
              "      <td>0</td>\n",
              "      <td>1</td>\n",
              "      <td>0</td>\n",
              "      <td>0</td>\n",
              "      <td>0</td>\n",
              "      <td>0</td>\n",
              "      <td>0</td>\n",
              "      <td>0</td>\n",
              "      <td>0</td>\n",
              "      <td>0</td>\n",
              "      <td>0</td>\n",
              "    </tr>\n",
              "    <tr>\n",
              "      <th>81</th>\n",
              "      <td>218809000</td>\n",
              "      <td>7.1958</td>\n",
              "      <td>76.5210</td>\n",
              "      <td>Tug</td>\n",
              "      <td>324</td>\n",
              "      <td>32.58</td>\n",
              "      <td>10.06</td>\n",
              "      <td>0</td>\n",
              "      <td>0</td>\n",
              "      <td>0</td>\n",
              "      <td>0</td>\n",
              "      <td>0</td>\n",
              "      <td>0</td>\n",
              "      <td>0</td>\n",
              "      <td>0</td>\n",
              "      <td>0</td>\n",
              "      <td>0</td>\n",
              "      <td>1</td>\n",
              "      <td>0</td>\n",
              "      <td>0</td>\n",
              "      <td>0</td>\n",
              "      <td>0</td>\n",
              "      <td>0</td>\n",
              "    </tr>\n",
              "    <tr>\n",
              "      <th>82</th>\n",
              "      <td>220124000</td>\n",
              "      <td>8.6354</td>\n",
              "      <td>79.3140</td>\n",
              "      <td>Tug</td>\n",
              "      <td>366</td>\n",
              "      <td>33.24</td>\n",
              "      <td>9.75</td>\n",
              "      <td>0</td>\n",
              "      <td>0</td>\n",
              "      <td>0</td>\n",
              "      <td>0</td>\n",
              "      <td>0</td>\n",
              "      <td>0</td>\n",
              "      <td>0</td>\n",
              "      <td>0</td>\n",
              "      <td>0</td>\n",
              "      <td>0</td>\n",
              "      <td>1</td>\n",
              "      <td>0</td>\n",
              "      <td>0</td>\n",
              "      <td>0</td>\n",
              "      <td>0</td>\n",
              "      <td>0</td>\n",
              "    </tr>\n",
              "    <tr>\n",
              "      <th>83</th>\n",
              "      <td>230212000</td>\n",
              "      <td>9.5779</td>\n",
              "      <td>125.0369</td>\n",
              "      <td>Tanker</td>\n",
              "      <td>30026</td>\n",
              "      <td>46.92</td>\n",
              "      <td>8.13</td>\n",
              "      <td>0</td>\n",
              "      <td>0</td>\n",
              "      <td>0</td>\n",
              "      <td>0</td>\n",
              "      <td>0</td>\n",
              "      <td>0</td>\n",
              "      <td>0</td>\n",
              "      <td>0</td>\n",
              "      <td>0</td>\n",
              "      <td>0</td>\n",
              "      <td>1</td>\n",
              "      <td>0</td>\n",
              "      <td>0</td>\n",
              "      <td>0</td>\n",
              "      <td>0</td>\n",
              "      <td>0</td>\n",
              "    </tr>\n",
              "    <tr>\n",
              "      <th>85</th>\n",
              "      <td>230941170</td>\n",
              "      <td>9.0729</td>\n",
              "      <td>109.9310</td>\n",
              "      <td>Tug</td>\n",
              "      <td>139</td>\n",
              "      <td>26.83</td>\n",
              "      <td>7.50</td>\n",
              "      <td>0</td>\n",
              "      <td>0</td>\n",
              "      <td>0</td>\n",
              "      <td>0</td>\n",
              "      <td>0</td>\n",
              "      <td>0</td>\n",
              "      <td>0</td>\n",
              "      <td>0</td>\n",
              "      <td>0</td>\n",
              "      <td>0</td>\n",
              "      <td>1</td>\n",
              "      <td>0</td>\n",
              "      <td>0</td>\n",
              "      <td>0</td>\n",
              "      <td>0</td>\n",
              "      <td>0</td>\n",
              "    </tr>\n",
              "    <tr>\n",
              "      <th>86</th>\n",
              "      <td>230961000</td>\n",
              "      <td>7.1920</td>\n",
              "      <td>73.6897</td>\n",
              "      <td>Tug</td>\n",
              "      <td>256</td>\n",
              "      <td>32.89</td>\n",
              "      <td>9.02</td>\n",
              "      <td>0</td>\n",
              "      <td>0</td>\n",
              "      <td>0</td>\n",
              "      <td>0</td>\n",
              "      <td>0</td>\n",
              "      <td>0</td>\n",
              "      <td>0</td>\n",
              "      <td>0</td>\n",
              "      <td>0</td>\n",
              "      <td>0</td>\n",
              "      <td>1</td>\n",
              "      <td>0</td>\n",
              "      <td>0</td>\n",
              "      <td>0</td>\n",
              "      <td>0</td>\n",
              "      <td>0</td>\n",
              "    </tr>\n",
              "    <tr>\n",
              "      <th>109</th>\n",
              "      <td>230025450</td>\n",
              "      <td>7.9455</td>\n",
              "      <td>81.9485</td>\n",
              "      <td>Tug</td>\n",
              "      <td>196</td>\n",
              "      <td>28.43</td>\n",
              "      <td>8.50</td>\n",
              "      <td>0</td>\n",
              "      <td>0</td>\n",
              "      <td>0</td>\n",
              "      <td>0</td>\n",
              "      <td>0</td>\n",
              "      <td>0</td>\n",
              "      <td>0</td>\n",
              "      <td>0</td>\n",
              "      <td>0</td>\n",
              "      <td>0</td>\n",
              "      <td>0</td>\n",
              "      <td>0</td>\n",
              "      <td>1</td>\n",
              "      <td>0</td>\n",
              "      <td>0</td>\n",
              "      <td>0</td>\n",
              "    </tr>\n",
              "  </tbody>\n",
              "</table>\n",
              "</div>"
            ],
            "text/plain": [
              "          MMSI   Speed  ...  Destination_Vuosaari Destination_Vysotsk\n",
              "19   230044260  8.7386  ...                     0                   0\n",
              "37   276832000  9.7647  ...                     0                   0\n",
              "45   230182000  9.9123  ...                     0                   0\n",
              "48   230984090  8.1728  ...                     0                   0\n",
              "81   218809000  7.1958  ...                     0                   0\n",
              "82   220124000  8.6354  ...                     0                   0\n",
              "83   230212000  9.5779  ...                     0                   0\n",
              "85   230941170  9.0729  ...                     0                   0\n",
              "86   230961000  7.1920  ...                     0                   0\n",
              "109  230025450  7.9455  ...                     0                   0\n",
              "\n",
              "[10 rows x 23 columns]"
            ]
          },
          "metadata": {},
          "output_type": "display_data"
        },
        {
          "name": "stdout",
          "output_type": "stream",
          "text": [
            "The outlier is\n"
          ]
        },
        {
          "data": {
            "text/html": [
              "<div>\n",
              "<style scoped>\n",
              "    .dataframe tbody tr th:only-of-type {\n",
              "        vertical-align: middle;\n",
              "    }\n",
              "\n",
              "    .dataframe tbody tr th {\n",
              "        vertical-align: top;\n",
              "    }\n",
              "\n",
              "    .dataframe thead th {\n",
              "        text-align: right;\n",
              "    }\n",
              "</style>\n",
              "<table border=\"1\" class=\"dataframe\">\n",
              "  <thead>\n",
              "    <tr style=\"text-align: right;\">\n",
              "      <th></th>\n",
              "      <th>MMSI</th>\n",
              "      <th>Speed</th>\n",
              "      <th>COG</th>\n",
              "      <th>Ship_type</th>\n",
              "      <th>Gross_tonnage</th>\n",
              "      <th>Length</th>\n",
              "      <th>Breadth</th>\n",
              "      <th>Destination_Hamina</th>\n",
              "      <th>Destination_Helsinki</th>\n",
              "      <th>Destination_Kotka</th>\n",
              "      <th>Destination_Kronshtadt</th>\n",
              "      <th>Destination_Kunda</th>\n",
              "      <th>Destination_Muuga</th>\n",
              "      <th>Destination_Paldiski</th>\n",
              "      <th>Destination_Porvoo</th>\n",
              "      <th>Destination_Primorsk</th>\n",
              "      <th>Destination_Sillamäe</th>\n",
              "      <th>Destination_Tallinn</th>\n",
              "      <th>Destination_Ust-Luga</th>\n",
              "      <th>Destination_Valko-Loviisa</th>\n",
              "      <th>Destination_Viipuri</th>\n",
              "      <th>Destination_Vuosaari</th>\n",
              "      <th>Destination_Vysotsk</th>\n",
              "    </tr>\n",
              "  </thead>\n",
              "  <tbody>\n",
              "    <tr>\n",
              "      <th>83</th>\n",
              "      <td>230212000</td>\n",
              "      <td>9.5779</td>\n",
              "      <td>125.0369</td>\n",
              "      <td>Tanker</td>\n",
              "      <td>30026</td>\n",
              "      <td>46.92</td>\n",
              "      <td>8.13</td>\n",
              "      <td>0</td>\n",
              "      <td>0</td>\n",
              "      <td>0</td>\n",
              "      <td>0</td>\n",
              "      <td>0</td>\n",
              "      <td>0</td>\n",
              "      <td>0</td>\n",
              "      <td>0</td>\n",
              "      <td>0</td>\n",
              "      <td>0</td>\n",
              "      <td>1</td>\n",
              "      <td>0</td>\n",
              "      <td>0</td>\n",
              "      <td>0</td>\n",
              "      <td>0</td>\n",
              "      <td>0</td>\n",
              "    </tr>\n",
              "  </tbody>\n",
              "</table>\n",
              "</div>"
            ],
            "text/plain": [
              "         MMSI   Speed  ...  Destination_Vuosaari Destination_Vysotsk\n",
              "83  230212000  9.5779  ...                     0                   0\n",
              "\n",
              "[1 rows x 23 columns]"
            ]
          },
          "metadata": {},
          "output_type": "display_data"
        },
        {
          "name": "stdout",
          "output_type": "stream",
          "text": [
            "Checking if there is more than one vessel with Gross_tonnage of 30026\n"
          ]
        },
        {
          "data": {
            "text/html": [
              "<div>\n",
              "<style scoped>\n",
              "    .dataframe tbody tr th:only-of-type {\n",
              "        vertical-align: middle;\n",
              "    }\n",
              "\n",
              "    .dataframe tbody tr th {\n",
              "        vertical-align: top;\n",
              "    }\n",
              "\n",
              "    .dataframe thead th {\n",
              "        text-align: right;\n",
              "    }\n",
              "</style>\n",
              "<table border=\"1\" class=\"dataframe\">\n",
              "  <thead>\n",
              "    <tr style=\"text-align: right;\">\n",
              "      <th></th>\n",
              "      <th>MMSI</th>\n",
              "      <th>Speed</th>\n",
              "      <th>COG</th>\n",
              "      <th>Ship_type</th>\n",
              "      <th>Gross_tonnage</th>\n",
              "      <th>Length</th>\n",
              "      <th>Breadth</th>\n",
              "      <th>Destination_Hamina</th>\n",
              "      <th>Destination_Helsinki</th>\n",
              "      <th>Destination_Kotka</th>\n",
              "      <th>Destination_Kronshtadt</th>\n",
              "      <th>Destination_Kunda</th>\n",
              "      <th>Destination_Muuga</th>\n",
              "      <th>Destination_Paldiski</th>\n",
              "      <th>Destination_Porvoo</th>\n",
              "      <th>Destination_Primorsk</th>\n",
              "      <th>Destination_Sillamäe</th>\n",
              "      <th>Destination_Tallinn</th>\n",
              "      <th>Destination_Ust-Luga</th>\n",
              "      <th>Destination_Valko-Loviisa</th>\n",
              "      <th>Destination_Viipuri</th>\n",
              "      <th>Destination_Vuosaari</th>\n",
              "      <th>Destination_Vysotsk</th>\n",
              "    </tr>\n",
              "  </thead>\n",
              "  <tbody>\n",
              "    <tr>\n",
              "      <th>83</th>\n",
              "      <td>230212000</td>\n",
              "      <td>9.5779</td>\n",
              "      <td>125.0369</td>\n",
              "      <td>Tanker</td>\n",
              "      <td>30026</td>\n",
              "      <td>46.92</td>\n",
              "      <td>8.13</td>\n",
              "      <td>0</td>\n",
              "      <td>0</td>\n",
              "      <td>0</td>\n",
              "      <td>0</td>\n",
              "      <td>0</td>\n",
              "      <td>0</td>\n",
              "      <td>0</td>\n",
              "      <td>0</td>\n",
              "      <td>0</td>\n",
              "      <td>0</td>\n",
              "      <td>1</td>\n",
              "      <td>0</td>\n",
              "      <td>0</td>\n",
              "      <td>0</td>\n",
              "      <td>0</td>\n",
              "      <td>0</td>\n",
              "    </tr>\n",
              "  </tbody>\n",
              "</table>\n",
              "</div>"
            ],
            "text/plain": [
              "         MMSI   Speed  ...  Destination_Vuosaari Destination_Vysotsk\n",
              "83  230212000  9.5779  ...                     0                   0\n",
              "\n",
              "[1 rows x 23 columns]"
            ]
          },
          "metadata": {},
          "output_type": "display_data"
        }
      ],
      "source": [
        "### Code for 1 c) find the outlier and replot\n",
        "# So we can see the outlier which length is approx 50 meters and gross_tonnage approx 30 000\n",
        "# Let's get rid of that outlier - first extracting all the ships which length is less than 60\n",
        "outliers = shipframe[shipframe['Length'] < 60]\n",
        "display(outliers)\n",
        "\n",
        "# Then with gross_tonnage over 29 000 but less than 35 000 within these outliers\n",
        "outlier = outliers[(outliers['Gross_tonnage'] < 31000) & (outliers['Gross_tonnage']> 29000)]\n",
        "print('The outlier is')\n",
        "display(outlier)\n",
        "\n",
        "# Before replacement check if there's another vessel with Gross_tonnage being 30026\n",
        "print('Checking if there is more than one vessel with Gross_tonnage of 30026')\n",
        "display(shipframe.loc[shipframe['Gross_tonnage'] == 30026])\n",
        "\n",
        "# And here we have it - only MMSI 230212000 is the outlier > let's replace the gross_tonnage value to 326\n",
        "shipframe['Gross_tonnage'].replace(30026, 326, inplace=True)"
      ]
    },
    {
      "cell_type": "code",
      "execution_count": null,
      "metadata": {
        "colab": {
          "base_uri": "https://localhost:8080/",
          "height": 518
        },
        "id": "1SUgkx8dZwBb",
        "outputId": "e4145f20-a24b-4898-c3ad-70935f1b2521"
      },
      "outputs": [
        {
          "data": {
            "image/png": "[encoded data removed]",
            "text/plain": [
              "<Figure size 576x576 with 1 Axes>"
            ]
          },
          "metadata": {},
          "output_type": "display_data"
        }
      ],
      "source": [
        "### Code for 1 c) rerun the plot with the correction made\n",
        "\n",
        "ax = sns.scatterplot(x=shipframe['Gross_tonnage'], y=shipframe['Length'], hue=shipframe['Ship_type'])\n",
        "ax.set_title('Gross tonnage vs Length (without outlier)') # to set title for the scatterplot\n",
        "\n",
        "plt.legend(loc='lower right', title='Ship type') #to get the legend to lower right\n",
        "plt.show()\n",
        "\n",
        "# As we can see from the plot, we don't have the outlier anymore\n",
        "# It's the orange dot after the first green dots in the very left side of the plot"
      ]
    },
    {
      "cell_type": "markdown",
      "metadata": {
        "id": "SPBpWAZNoDw0"
      },
      "source": [
        "#### <font color = dimgrey> d) Exploit your domain knowledge and transform to improve the expected results and/or to avoid redundancy. \n",
        "- Find out what gross tonnage means. Make some transformation to Length values to acquire a linear relationship between the transformed length and Gross tonnage values. Plot the situation after the transformation **1p** \n",
        "- You can find the needed information in for example https://en.wikipedia.org/wiki/Gross_tonnage. Look at the formula and think how you can get the two variables similarly scaled. If you are having trouble, just experiment with different transformations before asking help. By plotting you can see what the relationship looks like after a transformation you have tried\n",
        "  "
      ]
    },
    {
      "cell_type": "code",
      "execution_count": null,
      "metadata": {
        "colab": {
          "base_uri": "https://localhost:8080/",
          "height": 518
        },
        "id": "Zjf5fmb3oDw1",
        "outputId": "26ff4cf0-49df-4602-8fb2-189b51d373e9"
      },
      "outputs": [
        {
          "data": {
            "image/png": "[encoded data removed]",
            "text/plain": [
              "<Figure size 576x576 with 1 Axes>"
            ]
          },
          "metadata": {},
          "output_type": "display_data"
        }
      ],
      "source": [
        "### Code for 1d          \n",
        "# Transformin all the Length values by nonlinear function of x^3\n",
        "# Using lambda function here: for every x value, raise it to power of 3\n",
        "shipframe['Length'] = shipframe['Length'].apply(lambda x: np.power(x,3))\n",
        "\n",
        "# Plotting the variables to see the relationship\n",
        "ax = sns.scatterplot(x=shipframe['Gross_tonnage'], y=shipframe['Length'], hue=shipframe['Ship_type'])\n",
        "ax.set_title('Gross tonnage vs Length')\n",
        "plt.legend(loc='lower right', title='Ship type')\n",
        "plt.show()"
      ]
    },
    {
      "cell_type": "markdown",
      "metadata": {
        "id": "M5-BsrlKoDw1"
      },
      "source": [
        "<font color = red>According to Wikipedia, the formula of the gross tonnage $GT$ is \n",
        "\n",
        "\\begin{equation}\n",
        "GT = KV,\n",
        "\\end{equation}\n",
        "\n",
        "<font color = red>where $K$ is a multiplier based on the ship volume and $V$ is the ship's total volume in cubic meters. $K$ can be calculated with a common logarithm and the $V$ value as\n",
        "\n",
        "\\begin{equation}\n",
        "K = 0.2+0.02 \\times log_{10}(V)\n",
        "\\end{equation}\n",
        "\n",
        "<font color = red>So, the gross tonnage is _nonlinear_ measurement of the total internal volume of a ship. It is calculated from keel to funnel and is used to rank a ship for determining e.g. manning and safety. $V$ is about the ship volume in cubic meters so the length of a ship is one crucial measurement (cubic meter being calculated as $length \\times breadth \\times height$).\n",
        "\n",
        "<font color = red>I used $x^3$ to transform all the Length values. Since the x-axis is nonlinear as described, when using linear variable on the y-axis, the non-linear dependency between variables can be seen in the plot. But when we use nonlinear variable on the y-axis aswell, we can observe linear dependency in the plot. I tried many other exponentials but visual inspection confirms that the power of 3 seems to be adequate. Another reason for $x^3$ could be that since there's $V$ parameter about the ship volume in cubic meters ($m^3$), it would fit to raise the Length values also to the third power.\n",
        "\n",
        "-----------------\n",
        "\n",
        "Wikipedia. 2021. Gross tonnage. https://en.wikipedia.org/wiki/Gross_tonnage (accessed: 30.11.2021)"
      ]
    },
    {
      "cell_type": "markdown",
      "metadata": {
        "id": "_0oDznjPoDw1"
      },
      "source": [
        "#### <font color = dimgrey> e) The numerical variables have quite different ranges. To ensure that all variables can have the same importance on the model, perform Z-score standardization. Perform it for speed, transformed length, and breadth **1p**"
      ]
    },
    {
      "cell_type": "code",
      "execution_count": null,
      "metadata": {
        "colab": {
          "base_uri": "https://localhost:8080/",
          "height": 433
        },
        "id": "17g51D6NoDw2",
        "outputId": "bfc157ef-1dae-4812-92ae-c5d9d014e99a"
      },
      "outputs": [
        {
          "data": {
            "application/vnd.google.colaboratory.intrinsic+json": {
              "type": "string"
            },
            "text/plain": [
              "'before'"
            ]
          },
          "metadata": {},
          "output_type": "display_data"
        },
        {
          "data": {
            "text/html": [
              "<div>\n",
              "<style scoped>\n",
              "    .dataframe tbody tr th:only-of-type {\n",
              "        vertical-align: middle;\n",
              "    }\n",
              "\n",
              "    .dataframe tbody tr th {\n",
              "        vertical-align: top;\n",
              "    }\n",
              "\n",
              "    .dataframe thead th {\n",
              "        text-align: right;\n",
              "    }\n",
              "</style>\n",
              "<table border=\"1\" class=\"dataframe\">\n",
              "  <thead>\n",
              "    <tr style=\"text-align: right;\">\n",
              "      <th></th>\n",
              "      <th>Speed</th>\n",
              "      <th>Length</th>\n",
              "      <th>Breadth</th>\n",
              "    </tr>\n",
              "  </thead>\n",
              "  <tbody>\n",
              "    <tr>\n",
              "      <th>0</th>\n",
              "      <td>10.1377</td>\n",
              "      <td>8.549406e+05</td>\n",
              "      <td>15.34</td>\n",
              "    </tr>\n",
              "    <tr>\n",
              "      <th>1</th>\n",
              "      <td>13.5256</td>\n",
              "      <td>1.597510e+06</td>\n",
              "      <td>18.00</td>\n",
              "    </tr>\n",
              "    <tr>\n",
              "      <th>2</th>\n",
              "      <td>9.9416</td>\n",
              "      <td>2.815167e+06</td>\n",
              "      <td>21.90</td>\n",
              "    </tr>\n",
              "    <tr>\n",
              "      <th>3</th>\n",
              "      <td>11.6038</td>\n",
              "      <td>2.815167e+06</td>\n",
              "      <td>21.60</td>\n",
              "    </tr>\n",
              "    <tr>\n",
              "      <th>4</th>\n",
              "      <td>11.9203</td>\n",
              "      <td>9.970030e+05</td>\n",
              "      <td>15.00</td>\n",
              "    </tr>\n",
              "  </tbody>\n",
              "</table>\n",
              "</div>"
            ],
            "text/plain": [
              "     Speed        Length  Breadth\n",
              "0  10.1377  8.549406e+05    15.34\n",
              "1  13.5256  1.597510e+06    18.00\n",
              "2   9.9416  2.815167e+06    21.90\n",
              "3  11.6038  2.815167e+06    21.60\n",
              "4  11.9203  9.970030e+05    15.00"
            ]
          },
          "metadata": {},
          "output_type": "display_data"
        },
        {
          "data": {
            "application/vnd.google.colaboratory.intrinsic+json": {
              "type": "string"
            },
            "text/plain": [
              "'after'"
            ]
          },
          "metadata": {},
          "output_type": "display_data"
        },
        {
          "data": {
            "text/html": [
              "<div>\n",
              "<style scoped>\n",
              "    .dataframe tbody tr th:only-of-type {\n",
              "        vertical-align: middle;\n",
              "    }\n",
              "\n",
              "    .dataframe tbody tr th {\n",
              "        vertical-align: top;\n",
              "    }\n",
              "\n",
              "    .dataframe thead th {\n",
              "        text-align: right;\n",
              "    }\n",
              "</style>\n",
              "<table border=\"1\" class=\"dataframe\">\n",
              "  <thead>\n",
              "    <tr style=\"text-align: right;\">\n",
              "      <th></th>\n",
              "      <th>Speed</th>\n",
              "      <th>Length</th>\n",
              "      <th>Breadth</th>\n",
              "    </tr>\n",
              "  </thead>\n",
              "  <tbody>\n",
              "    <tr>\n",
              "      <th>0</th>\n",
              "      <td>-0.161299</td>\n",
              "      <td>-0.569303</td>\n",
              "      <td>-0.489104</td>\n",
              "    </tr>\n",
              "    <tr>\n",
              "      <th>1</th>\n",
              "      <td>1.580209</td>\n",
              "      <td>-0.405892</td>\n",
              "      <td>-0.220696</td>\n",
              "    </tr>\n",
              "    <tr>\n",
              "      <th>2</th>\n",
              "      <td>-0.262102</td>\n",
              "      <td>-0.137933</td>\n",
              "      <td>0.172834</td>\n",
              "    </tr>\n",
              "    <tr>\n",
              "      <th>3</th>\n",
              "      <td>0.592331</td>\n",
              "      <td>-0.137933</td>\n",
              "      <td>0.142563</td>\n",
              "    </tr>\n",
              "    <tr>\n",
              "      <th>4</th>\n",
              "      <td>0.755024</td>\n",
              "      <td>-0.538041</td>\n",
              "      <td>-0.523412</td>\n",
              "    </tr>\n",
              "  </tbody>\n",
              "</table>\n",
              "</div>"
            ],
            "text/plain": [
              "      Speed    Length   Breadth\n",
              "0 -0.161299 -0.569303 -0.489104\n",
              "1  1.580209 -0.405892 -0.220696\n",
              "2 -0.262102 -0.137933  0.172834\n",
              "3  0.592331 -0.137933  0.142563\n",
              "4  0.755024 -0.538041 -0.523412"
            ]
          },
          "metadata": {},
          "output_type": "display_data"
        }
      ],
      "source": [
        "### Code for 1e\n",
        "# Z-score standardization with the use of spicy.stats.zscore method\n",
        "# https://docs.scipy.org/doc/scipy/reference/generated/scipy.stats.zscore.html\n",
        "# stats.zscore(<dataframe>) computes z score of each value in the column\n",
        "display('before', shipframe[['Speed', 'Length', 'Breadth']].head())\n",
        "\n",
        "# Z-score for Speed values\n",
        "shipframe['Speed'] = stats.zscore(shipframe['Speed'])\n",
        "\n",
        "# Z-score for  Length values\n",
        "shipframe['Length'] = stats.zscore(shipframe['Length'])\n",
        "\n",
        "# Z-score for  Breadth values\n",
        "shipframe['Breadth'] = stats.zscore(shipframe['Breadth'])\n",
        "\n",
        "display('after', shipframe[['Speed', 'Length', 'Breadth']].head())"
      ]
    },
    {
      "cell_type": "markdown",
      "metadata": {
        "id": "g4SOwFinZwBf"
      },
      "source": [
        "______________\n",
        "## <font color = lightcoral>2. Classification </font> "
      ]
    },
    {
      "cell_type": "markdown",
      "metadata": {
        "id": "7CqWZYx2oDw3"
      },
      "source": [
        "Predict the **ship type** using **speed, destination, transformed length, and breadth** as features. Find an estimation for the classification accuracy (number of correctly classified ships to the total number of ships) using **random training and test sets**. <br>\n",
        "\n",
        "Below is a summary of exercises for part 2\n",
        "- a) Produce training and test data **1p**\n",
        "     - Gather the normalized features and one-hot-coded destination columns as array __X__ (input variables), and the ship type as array **y** (output variable)     \n",
        "     - Divide the data randomly into training (20%) and test (80%) sets\n",
        "     - Do you need to use stratification? **Explain your decision**\n",
        "- b) Train the model and test its performance **1p**\n",
        "     - Use kNN classifier with k=3\n",
        "     - Print out the confusion matrix. How does the model perform with different ship types?\n",
        "     - What is the (total) classification accuracy?\n",
        " - Repeat the calculation 1000 times with different split of training/test data, and make a histogram of the results for classification accuracy **1p**\n",
        " - Discuss your results **1p**\n",
        " \n",
        " ______________"
      ]
    },
    {
      "cell_type": "markdown",
      "metadata": {
        "id": "mfq_3_WNoDw3"
      },
      "source": [
        "#### <font color = lightcoral> a) Produce training and test data 1p\n",
        "- Gather the normalized features and one-hot-coded destination columns as array X (input variables), and the ship type as array y (output variable)\n",
        "- Divide the data randomly into training (20%) and test (80%) sets\n",
        "- Do you need to use stratification? **Explain your decision**"
      ]
    },
    {
      "cell_type": "code",
      "execution_count": null,
      "metadata": {
        "colab": {
          "base_uri": "https://localhost:8080/",
          "height": 495
        },
        "id": "h5p9ZVQBoDw3",
        "outputId": "44c3807e-1b2f-4d13-a0dc-35380ed91f11"
      },
      "outputs": [
        {
          "name": "stdout",
          "output_type": "stream",
          "text": [
            "What we got:\n",
            "1st index of arr_x [-0.16129924 -0.56930326 -0.48910449  1.          0.          0.\n",
            "  0.          0.          0.          0.          0.          0.\n",
            "  0.          0.          0.          0.          0.          0.\n",
            "  0.        ]\n",
            "1st index of arr_y Cargo\n",
            "Cargo     67\n",
            "Tanker    58\n",
            "Tug        9\n",
            "Name: Ship_type, dtype: int64\n",
            "Training set of input variables (first 3 rows)\n"
          ]
        },
        {
          "data": {
            "text/plain": [
              "array([[-0.31155243,  0.16247748,  0.52902985,  0.        ,  0.        ,\n",
              "         0.        ,  0.        ,  0.        ,  1.        ,  0.        ,\n",
              "         0.        ,  0.        ,  0.        ,  0.        ,  0.        ,\n",
              "         0.        ,  0.        ,  0.        ,  0.        ],\n",
              "       [ 0.75502418, -0.53804075, -0.52341229,  1.        ,  0.        ,\n",
              "         0.        ,  0.        ,  0.        ,  0.        ,  0.        ,\n",
              "         0.        ,  0.        ,  0.        ,  0.        ,  0.        ,\n",
              "         0.        ,  0.        ,  0.        ,  0.        ],\n",
              "       [-0.81685139, -0.28173535, -0.37205436,  0.        ,  0.        ,\n",
              "         0.        ,  0.        ,  0.        ,  0.        ,  0.        ,\n",
              "         0.        ,  0.        ,  0.        ,  1.        ,  0.        ,\n",
              "         0.        ,  0.        ,  0.        ,  0.        ]])"
            ]
          },
          "metadata": {},
          "output_type": "display_data"
        },
        {
          "name": "stdout",
          "output_type": "stream",
          "text": [
            "Training set of output variables (first 5 rows)\n"
          ]
        },
        {
          "data": {
            "text/plain": [
              "array(['Cargo', 'Tanker', 'Tanker', 'Tanker', 'Cargo'], dtype=object)"
            ]
          },
          "metadata": {},
          "output_type": "display_data"
        },
        {
          "name": "stdout",
          "output_type": "stream",
          "text": [
            "The lengths of training sets are 107 107 and test sets 27 27\n"
          ]
        }
      ],
      "source": [
        "### Code for 2a\n",
        "# normalized features (speed, transformed length, breadth) and one-hot encoded destinations as array X\n",
        "# so we DO NOT want MMSI, cog, shiptype or gross tonnage to be included\n",
        "# https://pandas.pydata.org/docs/reference/api/pandas.DataFrame.to_numpy.html\n",
        "# https://pandas.pydata.org/docs/reference/api/pandas.DataFrame.loc.html\n",
        "# https://pandas.pydata.org/docs/reference/api/pandas.DataFrame.isin.html\n",
        "# .to_numpy() to convert dataframe to numpy array\n",
        "# firstly, using ~<dataframe>.isin(<column names>) to drop unwanted columns\n",
        "# using tilde (~) to get the other columns but the ones inside .isin()\n",
        "# and finally all inside <datadrame>.loc[] to access the information of rows and columns\n",
        "arr_x = shipframe.loc[:, ~shipframe.columns.isin(['MMSI', 'COG', 'Ship_type', 'Gross_tonnage'])].to_numpy()\n",
        "\n",
        "# the ship type as array y\n",
        "arr_y = shipframe['Ship_type'].to_numpy()\n",
        "\n",
        "# printing the 1st indexes to see if we got correct information\n",
        "print('What we got:')\n",
        "print('1st index of arr_x', arr_x[0])\n",
        "print('1st index of arr_y', arr_y[0])\n",
        "# Seems to be right\n",
        "\n",
        "# Let's check how many different types there are and which are their counts\n",
        "print(shipframe['Ship_type'].value_counts())\n",
        "# See answer below why this information is used for stratification\n",
        "\n",
        "# Then finally dividing the data randomly into training (80%) and test (20%) sets\n",
        "# https://scikit-learn.org/stable/modules/generated/sklearn.model_selection.train_test_split.html\n",
        "# random_state=50 to have reproducible results\n",
        "# stratify by ship type (arr_y) to get all classes included (3 types, different count of each)\n",
        "X_training, X_testing, Y_training, Y_testing = train_test_split(arr_x, arr_y, test_size=0.2, random_state=50, stratify=arr_y)\n",
        "\n",
        "print('Training set of input variables (first 3 rows)')\n",
        "display(X_training[:3, :])\n",
        "print('Training set of output variables (first 5 rows)')\n",
        "display(Y_training[:5])\n",
        "print('The lengths of training sets are', len(X_training), len(Y_training), 'and test sets', len(X_testing), len(Y_testing))"
      ]
    },
    {
      "cell_type": "markdown",
      "metadata": {
        "id": "daPc_o9boDw3"
      },
      "source": [
        "<font color = red>I used stratification to include all the different ship types for both training and test sets.  As we can see below, there are unequal numbers of ship types so to ensure we can predict every type, we need them in both sets. By using parameter stratify = \\<ship types> I ensured the described statification. \n",
        "\n",
        "> <font color = red>Cargo     67\n",
        ">\n",
        "> <font color = red>Tanker    58\n",
        ">\n",
        "> <font color = red>Tug        9\n",
        "\n",
        "<font color = red>Firstly I tried to do the stratification by Destination but I noticed it wasn't possible since there were only one Helsinki destination mentioned (see the numbers below). The stratification by that sended only an error. Then I figured it out that of course one needs to divide also the output variables (since we have supervised KNN here) and there we have the ship types included.\n",
        "\n",
        "> <font color = red>Hamina           19 \n",
        ">\n",
        "> <font color = red>Porvoo           18 \n",
        ">\n",
        "> <font color = red>Ust-Luga         16 \n",
        ">\n",
        "> <font color = red>Tallinn          12 \n",
        ">\n",
        "> <font color = red>Muuga            12\n",
        ">\n",
        "> <font color = red>Valko-Loviisa     9 \n",
        ">\n",
        "> <font color = red>Paldiski          9 \n",
        "> \n",
        "> <font color = red>Kotka             8 \n",
        "> \n",
        "> <font color = red>Vuosaari          7 \n",
        ">\n",
        "> <font color = red>Viipuri           6 \n",
        "> \n",
        "> <font color = red>Vysotsk           5 \n",
        ">\n",
        "> <font color = red>Primorsk          5 \n",
        ">\n",
        "> <font color = red>Sillamäe          3 \n",
        ">\n",
        "> <font color = red>Kronshtadt        2 \n",
        ">\n",
        "> <font color = red>Kunda             2 \n",
        ">\n",
        "> <font color = red>Helsinki          1"
      ]
    },
    {
      "cell_type": "markdown",
      "metadata": {
        "id": "muqCazPIoDw4"
      },
      "source": [
        "_______________\n",
        "#### <font color = lightcoral> b) Train the model and test its performance 1p\n",
        "- Use a kNN classifier with k=3\n",
        "- Print out the confusion matrix. <br>\n",
        "- How does the model perform with different ship types? Where do you think the differences come from?<br>\n",
        "- What is the (total) classification accuracy?"
      ]
    },
    {
      "cell_type": "code",
      "execution_count": null,
      "metadata": {
        "colab": {
          "base_uri": "https://localhost:8080/",
          "height": 799
        },
        "id": "NMR7Y2s6oDw4",
        "outputId": "d5d711e8-8dd7-4485-fa39-ed7b15025efa"
      },
      "outputs": [
        {
          "name": "stdout",
          "output_type": "stream",
          "text": [
            "[[10  2  1]\n",
            " [ 4  8  0]\n",
            " [ 2  0  0]]\n",
            "              precision    recall  f1-score   support\n",
            "\n",
            "       Cargo       0.62      0.77      0.69        13\n",
            "      Tanker       0.80      0.67      0.73        12\n",
            "         Tug       0.00      0.00      0.00         2\n",
            "\n",
            "    accuracy                           0.67        27\n",
            "   macro avg       0.48      0.48      0.47        27\n",
            "weighted avg       0.66      0.67      0.66        27\n",
            "\n",
            "Accuracy 0.6666666666666666\n",
            "--------------------------------------------------------\n"
          ]
        },
        {
          "data": {
            "application/vnd.google.colaboratory.intrinsic+json": {
              "type": "string"
            },
            "text/plain": [
              "'The first 3 total accuracies'"
            ]
          },
          "metadata": {},
          "output_type": "display_data"
        },
        {
          "data": {
            "text/plain": [
              "[0.6716417910447762, 0.6865671641791045, 0.6417910447761194]"
            ]
          },
          "metadata": {},
          "output_type": "display_data"
        },
        {
          "data": {
            "application/vnd.google.colaboratory.intrinsic+json": {
              "type": "string"
            },
            "text/plain": [
              "'1st cargo accuracy'"
            ]
          },
          "metadata": {},
          "output_type": "display_data"
        },
        {
          "data": {
            "text/plain": [
              "0.6666666666666666"
            ]
          },
          "metadata": {},
          "output_type": "display_data"
        },
        {
          "data": {
            "application/vnd.google.colaboratory.intrinsic+json": {
              "type": "string"
            },
            "text/plain": [
              "'1st tanker accuracy'"
            ]
          },
          "metadata": {},
          "output_type": "display_data"
        },
        {
          "data": {
            "text/plain": [
              "0.7931034482758621"
            ]
          },
          "metadata": {},
          "output_type": "display_data"
        },
        {
          "data": {
            "application/vnd.google.colaboratory.intrinsic+json": {
              "type": "string"
            },
            "text/plain": [
              "'1st tug accuracy'"
            ]
          },
          "metadata": {},
          "output_type": "display_data"
        },
        {
          "data": {
            "text/plain": [
              "0.6666666666666666"
            ]
          },
          "metadata": {},
          "output_type": "display_data"
        },
        {
          "data": {
            "image/png": "[encoded data removed]",
            "text/plain": [
              "<Figure size 1440x360 with 4 Axes>"
            ]
          },
          "metadata": {},
          "output_type": "display_data"
        }
      ],
      "source": [
        "### Code for 2b\n",
        "# https://scikit-learn.org/stable/modules/generated/sklearn.neighbors.KNeighborsClassifier.html\n",
        "# n_neighbors=3 to have k=3\n",
        "knn_model = KNeighborsClassifier(n_neighbors=3)\n",
        "\n",
        "# Training the model using training sets\n",
        "knn_model.fit(X_training, Y_training) # to fit the KNN from the training dataset\n",
        "\n",
        "# Predicting the classes for X test set\n",
        "y_predicted = knn_model.predict(X_testing)\n",
        "\n",
        "# Printing the confusion matrix, classification results and total accuracy\n",
        "print(metrics.confusion_matrix(Y_testing, y_predicted)) # -matrix(<true>, <predicted>)\n",
        "print(metrics.classification_report(Y_testing, y_predicted)) \n",
        "print('Accuracy', metrics.accuracy_score(Y_testing, y_predicted))\n",
        "print('--------------------------------------------------------')\n",
        "############################################################################\n",
        "# Repeat the calculation 1000 times with different split of training/test data, and make a histogram of the results for classification accuracy\n",
        "# So let's use the split (50-50) for the training and test sets\n",
        "# Stratification used again, but since we iterate 1000 times, we don't need random state for reproducible results\n",
        "\n",
        "# KNN method\n",
        "knn2_model = KNeighborsClassifier(n_neighbors=3)\n",
        "accuracy_results = [] # variable for the results in for loop\n",
        "cargo_accuracies = []\n",
        "tanker_accuracies = []\n",
        "tug_accuracies = []\n",
        "\n",
        "for i in range(1000):\n",
        "  # Dividing the data\n",
        "  X2_training, X2_testing, Y2_training, Y2_testing = train_test_split(arr_x, arr_y, test_size=0.5, stratify=arr_y)\n",
        "  # Training model\n",
        "  knn2_model.fit(X2_training, Y2_training)\n",
        "  # Predicting classes\n",
        "  y2_predictions = knn2_model.predict(X2_testing)\n",
        "  # Calculating the total accuracy of the model\n",
        "  accuracy = metrics.accuracy_score(Y2_testing, y2_predictions)\n",
        "  # Adding it to the result list\n",
        "  accuracy_results.append(accuracy)\n",
        "\n",
        "  # Calculating the confusion matrix for class accuracies\n",
        "  conf_matrix = metrics.confusion_matrix(Y2_testing, y2_predictions)\n",
        "  # Normalizing the diagonal values where the true positives are\n",
        "  conf_matrix = conf_matrix.astype('float') / conf_matrix.sum(axis=1)[:, np.newaxis]\n",
        "  # Adding accuracies to the list of the results of each class\n",
        "  cargo_accuracies.append(conf_matrix.diagonal()[0])\n",
        "  tanker_accuracies.append(conf_matrix.diagonal()[1])\n",
        "  tug_accuracies.append(conf_matrix.diagonal()[0])\n",
        "\n",
        "# Printing some to see results\n",
        "display('The first 3 total accuracies', accuracy_results[:3])\n",
        "display('1st cargo accuracy', cargo_accuracies[0], '1st tanker accuracy', tanker_accuracies[0], '1st tug accuracy', tug_accuracies[0])\n",
        "\n",
        "# Subplotting them - total accuracy in one and class accuracies in another histograms\n",
        "fig, ax = plt.subplots(1,4, figsize=(20,5))\n",
        "fig.suptitle('Accuracy distibutions after 1000 iterations (50-50 split for training and test sets)', size=13) # main title\n",
        "# Total accuracy histogram\n",
        "sns.histplot(accuracy_results, kde=True, ax=ax[0])\n",
        "# Some titling and labeling\n",
        "ax[0].set_title('Total accuracy')\n",
        "ax[0].set(xlabel='Accuracy')\n",
        "# Accuracy of Cargo, Tanker and Tug histograms\n",
        "sns.histplot(cargo_accuracies, color='skyblue', label='Cargo', kde=True, ax=ax[1])\n",
        "sns.histplot(tanker_accuracies, color='red', label='Tanker', kde=True, ax=ax[2])\n",
        "sns.histplot(tug_accuracies, color='green', label='Tug', kde=True, ax=ax[3])\n",
        "# Some titling and labeling\n",
        "ax[1].set_title('Cargo accuracy')\n",
        "ax[1].set(xlabel='Accuracy')\n",
        "ax[2].set_title('Tanker accuracy')\n",
        "ax[2].set(xlabel='Accuracy')\n",
        "ax[3].set_title('Tug accuracy')\n",
        "ax[3].set(xlabel='Accuracy')\n",
        "\n",
        "plt.show()"
      ]
    },
    {
      "cell_type": "markdown",
      "metadata": {
        "id": "1ceztBiPoDw4"
      },
      "source": [
        "<font color = red>Let's start the discussion and analysis with theory of the confusion matrix.\n",
        "\n",
        "\\begin{array}{cc|cc|c}\n",
        "    &   &   Predicted \\\\ \n",
        "    &   & Positive & Negative & Totals \\\\ \\hline\n",
        "Actual    & Positive & TP & FN & P = (TP+FN) = Actual \\ total \\ positives \\\\ \n",
        " & Negative  & FP & TN & N = (FP+TN) = Actual \\ total \\ negatives \\\\ \\hline\n",
        "    & Totals & Predicted  & Predicted \\\\  \n",
        "    & & total & total \\\\\n",
        "    & & positives & negatives\n",
        "\\end{array}\n",
        "\n",
        "<font color = red>According the sources below, the confusion matrix helps to evaluate the performance of the ML model. It's $n \\times n$ -sized matrix where $n$ is the number of class labels. The rows of confusion matrix show actual values and column show the predicted ones. The cells can be defined as \n",
        "\n",
        "> <font color = red>**True positives (TP)** = actual positives in the data, correctly predicted as positive\n",
        ">\n",
        "> <font color = red>**True negatives (TN)** = actual negatives in the data, correctly precidted as negative \n",
        ">\n",
        "> <font color = red>**False positive (FP)** = actual negatives in the data, but predicted as positive \n",
        ">\n",
        "> <font color = red>**False negative (FN)** = actual positives in the data, but predicted as negative \n",
        "\n",
        "<font color = red>So based on the above definitions of TP, TN, FP and FN we can two kinds of informations: which are *totals of predicted and actual values*. We have three classes which can be predicted from the data -- Cargo, Tanker and Tug. From the confusion matrix we can see the true positives, false negatives, false positives and true negatives of each class. Let's have them visualised.\n",
        "\n",
        "\\begin{array}{cc|ccc|c}\n",
        "    &   &   & Predicted & & Actual \\\\ \n",
        "    &   & Cargo & Tanker & Tug & total \\\\\\hline\n",
        "    & Cargo & 10 & 2 & 1 & 13\\\\ \n",
        "Actual & Tanker & 4 & 8 & 0 & 12\\\\ \n",
        "    & Tug & 2 & 0 & 0 & 2 \\\\  \\hline\n",
        " Predicted  & total & 16 & 10 & 1 & 27\n",
        "\\end{array}\n",
        "\n",
        "<font color = red>The cells on the diagonal line show the TPs. Other cells in rows (expect the ones which are on the diagonal) are FNs for the class. E.g. **Cargo** has 10 true positives which means that out of the labels which have been predicted to be Cargo by KNN 10 are truly Cargo. Two are mispredicted as Tanker and one as Tug. So, we have 13 *actual* Cargo and 16 *predicted* which must mean there are 3 FNs and 6 FPs. \n",
        "\n",
        "<font color = red>Similarly out of the labels which have been predicted as **Tanker** there are eight truly Tanker and four mispredicted as Cargo. Actual total of Tanker is 12 and predicted total is 10 so there are 4 FPs and 3 FNs. No labels predicted as **Tug** were truly Tug but there were 2 mispredicted as Cargo. Out of 2 actual Tug and 1 predicted Tug, 2 are FPs and 1 FN. \n",
        "\n",
        "<font color = red>Total accuracy were 67% which is ok.\n",
        "\n",
        "<font color = red> As noticed, Tugs were only mispredicted. The other two were better represented in the test set (and training set aswell) as noticed in the previous exercise (only 9 Tugs overall - divided into four set so only 2-3 in every set). That's really important to consider since it's a class which never occured. It seems like the model neglects the Tug class.\n",
        "\n",
        "<font color = red>After the 50-50% split and 1000 iterations the total accuracy but also accuracies of each class can be seen to be quite close to *normal distribution* (see histograms above), on some runs it's also more negatively skewed. Even for the Tug class the distribution is closer to normal distribution or negatively skewed distribution even tho first KNN model couldn't get any correct predictions (then the accuracy were 0%). So the total accuracy of previous model was 67% which can be explained as \"poorer luck\" since there were times when the second trained KNN model could predict classes with approx. 80% accuracy.\n",
        "\n",
        "<font color = red>Here we could talk about *the law of large numbers* which describes the result of performing the same experiment a large number of times. According to this law, the average obtained from a large number of iterations (here 1000) should be close to the expected value -- the generalization of the weighted average -- and will get closer to this value as more iterations are performed. \n",
        "\n",
        "----------\n",
        "\n",
        "Beena, V. 2020. Understanding Confusion matrix and applying it on KNN-Classifier on Iris Data set. https://ai.plainenglish.io/understanding-confusion-matrix-and-applying-it-on-knn-classifier-on-iris-dataset-b57f85d05cd8 (accessed: 1.12.2021)\n",
        "\n",
        "Wikipedia. 2021. Law of large numbers. https://en.wikipedia.org/wiki/Law_of_large_numbers (accessed: 2.12.2021)"
      ]
    },
    {
      "cell_type": "markdown",
      "metadata": {
        "id": "gQfehqAioDw4"
      },
      "source": [
        "__________\n",
        "## 3. <font color = navy> Classification accuracy using leave-one-out cross validation"
      ]
    },
    {
      "cell_type": "markdown",
      "metadata": {
        "id": "DPZx-6JLoDw5"
      },
      "source": [
        "Again, predict the **ship type** using **speed, destination, transformed length, and breadth** of the ship as features. Find an estimation for the classification accuracy using *leave-one-out cross validation (LOO CV)*. <br>\n",
        "\n",
        " - a) Use leave-one-out cross validation to estimate the model performance **1p**\n",
        "     - Use kNN classifier with k=3\n",
        "     - What is the classification accuracy? Compare the result with the one you got in the previous task\n",
        " - b) Which method gives better evaluation of the performance of the classifier with this data set? Explain your choice **1p**"
      ]
    },
    {
      "cell_type": "code",
      "execution_count": null,
      "metadata": {
        "colab": {
          "base_uri": "https://localhost:8080/"
        },
        "id": "znHjVwKDoDw5",
        "outputId": "2d5de74a-bf6a-4ee3-fc57-dc2af45aa4d4"
      },
      "outputs": [
        {
          "name": "stdout",
          "output_type": "stream",
          "text": [
            "Accuracy on the first try (for-loop): 0.746268656716418\n",
            "Accuracy on the second try (cross_val_score): 0.746268656716418\n"
          ]
        }
      ],
      "source": [
        "### Code for 3\n",
        "# Defining leave-on-out cross validation for use\n",
        "loo_cv = LeaveOneOut()\n",
        "# Defining KNN model\n",
        "knn_model = KNeighborsClassifier(n_neighbors=3)\n",
        "# Evaluating the model - arr_x has the input data and arr_y the output data\n",
        "y_totalPred, y_totalActual = [], []\n",
        "for train_i, test_i in loo_cv.split(arr_x): #train_i has the all but one datapoint\n",
        "  # Dividing data into training and test sets\n",
        "  X_training, X_testing = arr_x[train_i, :], arr_x[test_i, :] #save train and test split for inputs\n",
        "  Y_training, Y_testing = arr_y[train_i], arr_y[test_i] # save train and test split for outputs\n",
        "  # Training the model\n",
        "  knn_model.fit(X_training, Y_training)\n",
        "  # Predicting classes\n",
        "  pred = knn_model.predict(X_testing)\n",
        "  # Storing the evaluation scores\n",
        "  y_totalActual.append(Y_testing[0])\n",
        "  y_totalPred.append(pred[0])\n",
        "\n",
        "# https://scikit-learn.org/stable/modules/generated/sklearn.model_selection.cross_val_score.html\n",
        "# Using cross_val_score for the same thing (evaluating the score by cross validation) but in a simpler way\n",
        "scores = cross_val_score(knn_model, arr_x, arr_y, scoring='accuracy', cv=loo_cv, n_jobs=-1)\n",
        "\n",
        "# Calculating accuracy based on the LOOCV\n",
        "accuracy = metrics.accuracy_score(y_totalActual, y_totalPred)\n",
        "print('Accuracy on the first try (for-loop):', accuracy)\n",
        "# Accuracy based on the cross_val_score method\n",
        "print('Accuracy on the second try (cross_val_score):', np.mean(scores))"
      ]
    },
    {
      "cell_type": "markdown",
      "metadata": {
        "id": "TXJmJ80DoDw5"
      },
      "source": [
        "#### a) <font color = navy> What is the classification accuracy? Compare the result with the one you got in the previous task **1p**\n",
        "\n",
        "<font color = red> The classification accuracy of KNN with LOOCV is 74,6% which is better than the accuracy in the previous task (66,7%). This ship data set can be considered as imbalanced since there are huge differences between the number of instances (Cargo 67, Tanker 58, Tug 9). The majority classes such Cargo and Tanker dominate the dataset and thus, the classification task. \n",
        "\n",
        "<font color = red>It can be seen that after 1000 iterations, the estimated mean of the total accuracy is somewhere between approx. 73-75%. So now after the cross validation was used, the total accuracy is closer to that.\n",
        "    \n",
        "#### b) <font color = navy>  Which method gives better evaluation of the performance of the classifier with this data set? Why? 1p\n",
        "\n",
        "<font color = red>The KNN model with cross validation gives the better evaluation of the performance due to imbalanced data set.\n",
        "\n",
        "<font color = red>Cross validation is for validating the stability and generalizability of machine learning models. it uses different portions of the data to train and test a model on different iterations. With LOOCV test set is always 1, as i:th instance, and the rest of the data is considered as training set, remaining $n-1$ instances. In this case, the KNN model cannot overfit to the test instance since it's apart from the training set and the whole data is used for both training and testing simultaneously. \n",
        "\n",
        "<font color = red>With small data set (such as 134 instances in our set), LOOCV is appropriate.\n",
        "\n",
        "----\n",
        "Airola, A. 2021. Model selection, cross-validation, performance estimation. Lecture notes.\n",
        "\n",
        "Wikipedia. 2021. Cross validation. \n",
        "https://en.wikipedia.org/wiki/Cross-validation_(statistics) (accessed: 2.12.2021)"
      ]
    },
    {
      "cell_type": "markdown",
      "metadata": {
        "id": "88BjCQL6oDw5"
      },
      "source": [
        "____________\n",
        "## <font color = forestgreen> 4. Model selection with leave-one-out cross validation"
      ]
    },
    {
      "cell_type": "markdown",
      "metadata": {
        "id": "A8fcES_LoDw5"
      },
      "source": [
        "- a) Select the best model (kNN with selection of k) using leave-one-out cross validation (Repeat the model performance estimation with values k=1...30). Which value of k produces the best classification accuracy? **2p**\n",
        "- b) If the number of k is still increased, what is the limit that the **1p** classification accuracy approaches? Why?\n",
        "- d) Can you say something about the performance of this *selected* model with new, unseen data? Explain, how you could you estimate the performance of this selected model. **1p** "
      ]
    },
    {
      "cell_type": "code",
      "execution_count": null,
      "metadata": {
        "colab": {
          "base_uri": "https://localhost:8080/",
          "height": 540
        },
        "id": "RJ7570_ZoDw6",
        "outputId": "ac438b1c-bc7b-4e4a-caaa-6c763479fe3d"
      },
      "outputs": [
        {
          "data": {
            "image/png": "[encoded data removed]",
            "text/plain": [
              "<Figure size 720x360 with 2 Axes>"
            ]
          },
          "metadata": {},
          "output_type": "display_data"
        },
        {
          "name": "stdout",
          "output_type": "stream",
          "text": [
            "===== When k = 1...30 =====\n",
            "The number of accuracies is 30\n",
            "The max value in accuracies is 0.7686567164179104\n",
            "The optimal value of k is then 4\n",
            "==== When k = 100...133 ====\n",
            "The number of accuracies is 34\n",
            "The max value in accuracies is 0.5970149253731343\n",
            "The min value in accuracies is 0.47761194029850745\n",
            "============================\n"
          ]
        }
      ],
      "source": [
        "# Code for 4\n",
        "# Using LOOCV and cross_val_score as in the previous exercise\n",
        "# loo_cv (leave-one-out cross validation), arr_x (inputs), arr_y (outputs)\n",
        "k_accuracies = [] # empty list for accuracies\n",
        "neighbors = range(1,31) # as k = 1....30\n",
        "\n",
        "# For-looping the accuracies of different k values\n",
        "for k in neighbors: \n",
        "  knn_model = KNeighborsClassifier(n_neighbors=k) # (n_neighbors=k) as k neighbor number changes\n",
        "  scores = cross_val_score(knn_model, arr_x, arr_y, scoring='accuracy', cv=loo_cv)\n",
        "  k_accuracies.append(scores.mean())\n",
        "\n",
        "tooManyK_accuracies = []\n",
        "for k in range(100, 134): \n",
        "  knn_model = KNeighborsClassifier(n_neighbors=k) # (n_neighbors=k) as k neighbor number changes\n",
        "  scores = cross_val_score(knn_model, arr_x, arr_y, scoring='accuracy', cv=loo_cv)\n",
        "  tooManyK_accuracies.append(scores.mean())\n",
        "\n",
        "# Plotting bot k values in subplot\n",
        "fig, ax = plt. subplots(1,2, figsize=(10,5))\n",
        "fig.suptitle('Accuracies for different k values')\n",
        "\n",
        "# first plot\n",
        "sns.lineplot(data=k_accuracies, marker='o', color='orange', ax=ax[0])\n",
        "ax[0].set_title('k = 1..30')\n",
        "ax[0].set(xlabel='Number of neighbors k', ylabel='Cross-validation accuracy')\n",
        "\n",
        "# second plot\n",
        "sns.lineplot(data=tooManyK_accuracies, marker='o', color='skyblue', ax=ax[1])\n",
        "ax[1].set_title('k = 100..133')\n",
        "ax[1].set(xlabel='Number of neighbors k')\n",
        "ax[1].set_xticklabels(range(95, 134, 5))\n",
        "\n",
        "plt.show()\n",
        "\n",
        "print('===== When k = 1...30 =====')\n",
        "print('The number of accuracies is', len(k_accuracies))\n",
        "print('The max value in accuracies is', max(k_accuracies))\n",
        "print('The optimal value of k is then', neighbors[k_accuracies.index(max(k_accuracies))])\n",
        "\n",
        "print('==== When k = 100...133 ====')\n",
        "print('The number of accuracies is', len(tooManyK_accuracies))\n",
        "print('The max value in accuracies is', max(tooManyK_accuracies))\n",
        "print('The min value in accuracies is', min(tooManyK_accuracies))\n",
        "print('============================')"
      ]
    },
    {
      "cell_type": "markdown",
      "metadata": {
        "id": "qKsgAEyWoDw6"
      },
      "source": [
        "#### <font color = forestgreen>  a) Which value of k produces the best classification accuracy? **1p**</font>"
      ]
    },
    {
      "cell_type": "markdown",
      "metadata": {
        "id": "hDZLiM5zZwBl"
      },
      "source": [
        "<font color = red> As clearly can be seen from the plot, the k value of 4 produces smallest error and thus, produces the best classification accuracy. The best accuracy is 76,7%."
      ]
    },
    {
      "cell_type": "markdown",
      "metadata": {
        "id": "MW3aVY1uZwBl"
      },
      "source": [
        "#### <font color = forestgreen> b) If the number of k is still increased, what is the limit that the classification accuracy approaches? Why?"
      ]
    },
    {
      "cell_type": "markdown",
      "metadata": {
        "id": "RaGOAakBZwBl"
      },
      "source": [
        "<font color = red> The limit it's approaching is called underfitting. If k value gets too big, the model can neither model the training data nor generalize to new data. As seen from the plot on the right side, when the k is getting big enough, it's getting close to accuracy of 50% - that's called very uncertain accuracy. \n",
        "\n",
        "<font color = red>Even there are three classes - three types of ships - the Tug is so underrepresented in the whole dataset, but also in the training and testing sets that when a class is predicted based on 120 neighbor it can never be Tug, so there's only 50%-50% chance to get Cargo or Tanker. "
      ]
    },
    {
      "cell_type": "code",
      "execution_count": null,
      "metadata": {
        "colab": {
          "base_uri": "https://localhost:8080/",
          "height": 1000
        },
        "id": "36XHGcc3vk_B",
        "outputId": "b2246067-b8b7-4e30-f056-446cde9dfd4d"
      },
      "outputs": [
        {
          "data": {
            "image/png": "[encoded data removed]",
            "text/plain": [
              "<Figure size 720x360 with 4 Axes>"
            ]
          },
          "metadata": {},
          "output_type": "display_data"
        },
        {
          "name": "stdout",
          "output_type": "stream",
          "text": [
            "=====================================================================\n",
            "Total accuracy of the model is 0.7686567164179104\n",
            "              precision    recall  f1-score   support\n",
            "\n",
            "       Cargo       0.73      0.85      0.79        67\n",
            "      Tanker       0.82      0.78      0.80        58\n",
            "         Tug       1.00      0.11      0.20         9\n",
            "\n",
            "    accuracy                           0.77       134\n",
            "   macro avg       0.85      0.58      0.59       134\n",
            "weighted avg       0.79      0.77      0.75       134\n",
            "\n",
            "=====================================================================\n"
          ]
        },
        {
          "data": {
            "image/png": "[encoded data removed]",
            "text/plain": [
              "<Figure size 1440x360 with 3 Axes>"
            ]
          },
          "metadata": {},
          "output_type": "display_data"
        },
        {
          "name": "stdout",
          "output_type": "stream",
          "text": [
            "=====================================================================\n"
          ]
        },
        {
          "data": {
            "image/png": "[encoded data removed]",
            "text/plain": [
              "<Figure size 576x576 with 1 Axes>"
            ]
          },
          "metadata": {},
          "output_type": "display_data"
        }
      ],
      "source": [
        "# Evaluating example for the performance of KNN model when k = 4\n",
        "# https://scikit-learn.org/stable/modules/generated/sklearn.model_selection.cross_val_predict.html\n",
        "# to generate cross-validated estimates for each input\n",
        "knn = KNeighborsClassifier(n_neighbors=4)\n",
        "y_pred = cross_val_predict(knn, arr_x, arr_y, cv=loo_cv) \n",
        "\n",
        "# Getting the confusion matricies in a subplot\n",
        "fig, ax = plt.subplots(1,2, figsize=(10, 5))\n",
        "# https://scikit-learn.org/stable/modules/generated/sklearn.metrics.confusion_matrix.html\n",
        "conf_matrix = metrics.confusion_matrix(arr_y, y_pred) # not normalized\n",
        "conf_matrix_norm = metrics.confusion_matrix(arr_y, y_pred, normalize='all') # normalizing to get the accuracies\n",
        "\n",
        "# Titling\n",
        "fig.suptitle('Confusion matrix (k = 4)', size=14)\n",
        "ax[0].set_title('Normalized', size=12)\n",
        "ax[1].set_title('Not normalized', size=12)\n",
        "\n",
        "# Getting them into subplot\n",
        "cmd = metrics.ConfusionMatrixDisplay(conf_matrix_norm, display_labels=['Cargo', 'Tanker', 'Tug'])\n",
        "cmd.plot(ax=ax[0])\n",
        "cmd2 = metrics.ConfusionMatrixDisplay(conf_matrix, display_labels=['Cargo', 'Tanker', 'Tug'])\n",
        "cmd2.plot(ax=ax[1])\n",
        "\n",
        "fig.tight_layout()\n",
        "fig.subplots_adjust(top=0.88) # to adjust the title\n",
        "plt.show()\n",
        "\n",
        "print('=====================================================================')\n",
        "# Calculating total accuracy\n",
        "# https://scikit-learn.org/stable/modules/generated/sklearn.model_selection.cross_val_score.html?highlight=cross#sklearn.model_selection.cross_val_score\n",
        "# to evaluate a score by cv\n",
        "scores = cross_val_score(knn, arr_x, arr_y, cv=loo_cv)\n",
        "print('Total accuracy of the model is', scores.mean())\n",
        "print(metrics.classification_report(arr_y, y_pred))\n",
        "print('=====================================================================')\n",
        "\n",
        "# Doing some iterations with the chosen k\n",
        "accuracy_results, cargo_accuracies, tanker_accuracies, tug_accuracies = [], [], [], []\n",
        "for i in range(1000):\n",
        "  # Dividing the data\n",
        "  X2_training, X2_testing, Y2_training, Y2_testing = train_test_split(arr_x, arr_y, test_size=0.5, stratify=arr_y)\n",
        "  # Training model\n",
        "  knn2_model.fit(X2_training, Y2_training)\n",
        "  # Predicting classes\n",
        "  y2_predictions = knn2_model.predict(X2_testing)\n",
        "  # Calculating the total accuracy of the model\n",
        "  accuracy = metrics.accuracy_score(Y2_testing, y2_predictions)\n",
        "  # Adding it to the result list\n",
        "  accuracy_results.append(accuracy)\n",
        "\n",
        "  # Calculating the confusion matrix for class accuracies\n",
        "  conf_matrix = metrics.confusion_matrix(Y2_testing, y2_predictions)\n",
        "  # Normalizing the diagonal values where the true positives are\n",
        "  conf_matrix = conf_matrix.astype('float') / conf_matrix.sum(axis=1)[:, np.newaxis]\n",
        "  # Adding accuracies to the list of the results of each class\n",
        "  cargo_accuracies.append(conf_matrix.diagonal()[0])\n",
        "  tanker_accuracies.append(conf_matrix.diagonal()[1])\n",
        "  tug_accuracies.append(conf_matrix.diagonal()[0])\n",
        "\n",
        "# Subplotting them - total accuracy in one and class accuracies in another histograms\n",
        "fig, ax = plt.subplots(1,3, figsize=(20,5))\n",
        "fig.suptitle('Accuracy distibutions of each class after 1000 iterations') # main title\n",
        "# Accuracy of Cargo, Tanker and Tug histograms\n",
        "sns.histplot(cargo_accuracies, color='skyblue', label='Cargo', kde=True, ax=ax[0])\n",
        "sns.histplot(tanker_accuracies, color='red', label='Tanker', kde=True, ax=ax[1])\n",
        "sns.histplot(tug_accuracies, color='green', label='Tug', kde=True, ax=ax[2])\n",
        "# Some titling and labeling\n",
        "ax[0].set_title('Cargo')\n",
        "ax[0].set(xlabel='Accuracy')\n",
        "ax[1].set_title('Tanker')\n",
        "ax[1].set(xlabel='Accuracy')\n",
        "ax[2].set_title('Tug')\n",
        "ax[2].set(xlabel='Accuracy')\n",
        "\n",
        "fig.tight_layout()\n",
        "fig.subplots_adjust(top=0.88) # To adjust the title\n",
        "plt.show()\n",
        "\n",
        "print('=====================================================================')\n",
        "# Let's try the ROC for multiclass\n",
        "# https://scikit-learn.org/stable/auto_examples/model_selection/plot_roc.html\n",
        "# Binarize the output\n",
        "# https://scikit-learn.org/stable/modules/generated/sklearn.preprocessing.label_binarize.html#sklearn.preprocessing.label_binarize\n",
        "BinArr_y  = preprocessing.label_binarize(arr_y, classes=['Cargo', 'Tanker', 'Tug'])\n",
        "n_classes = BinArr_y.shape[1]\n",
        "y_score = cross_val_predict(knn, arr_x, arr_y, cv=loo_cv, method='predict_proba')\n",
        "\n",
        "# Computing ROC curve and AUC for each class\n",
        "# https://scikit-learn.org/stable/modules/generated/sklearn.metrics.roc_curve.html\n",
        "# https://scikit-learn.org/stable/modules/generated/sklearn.metrics.auc.html?highlight=auc#sklearn.metrics.auc\n",
        "fpr, tpr, roc_auc = dict(), dict(), dict()\n",
        "for i in range(n_classes):\n",
        "  fpr[i], tpr[i], _ = metrics.roc_curve(BinArr_y[:, i], y_score[:, i])\n",
        "  roc_auc[i] = metrics.auc(fpr[i], tpr[i])\n",
        "\n",
        "# Computing micro-average ROC curve and area\n",
        "fpr['micro'], tpr['micro'], _ = metrics.roc_curve(BinArr_y.ravel(), y_score.ravel())\n",
        "roc_auc['micro'] = metrics.auc(fpr['micro'], tpr['micro'])\n",
        "\n",
        "# Aggregating all the false positive rates\n",
        "all_fpr = np.unique(np.concatenate([fpr[i] for i in range(n_classes)]))\n",
        "\n",
        "# Interpolating all the ROC curves\n",
        "# https://numpy.org/doc/stable/reference/generated/numpy.interp.html\n",
        "mean_tpr = np.zeros_like(all_fpr)\n",
        "for i in range(n_classes):\n",
        "  mean_tpr += np.interp(all_fpr, fpr[i], tpr[i])\n",
        "\n",
        "# Averaging the interpolated curves\n",
        "mean_tpr /= n_classes\n",
        "\n",
        "fpr['macro'] = all_fpr\n",
        "tpr['macro'] = mean_tpr\n",
        "roc_auc['macro'] = metrics.auc(fpr['macro'], tpr['macro'])\n",
        "\n",
        "# FINALLY the plotting part\n",
        "# Macro average\n",
        "ax = sns.lineplot(x=fpr['macro'], y=tpr['macro'], linestyle='dashed', color='skyblue', label='macro-average ROC (area = {0:02f})'.format(roc_auc['macro']))\n",
        "# Micro average\n",
        "sns.lineplot(x=fpr['micro'], y=tpr['micro'], linestyle='dashed', color='pink', label='micro-average ROC (area = {0:02f})'.format(roc_auc['micro']))\n",
        "\n",
        "# The curves of each class with for loop\n",
        "colors = ['aqua', 'orange', 'green']\n",
        "classes = ['Cargo', 'Tanker', 'Tug']\n",
        "for i in range(n_classes):\n",
        "  sns.lineplot(x=fpr[i], y=tpr[i], color=colors[i], label='ROC curve of class {0} (area = {1:0.02f})'.format(classes[i], roc_auc[i]))\n",
        "\n",
        "# Let's get the random guess line then\n",
        "sns.lineplot(x=[0,1], y=[0,1], color='black', linestyle='--')\n",
        "\n",
        "# Some titling and rescaling the limits of x-axis and y-axis\n",
        "ax.set(title='ROC curves for ship types', xlabel='False Positive Rate', ylabel='True Positive Rate', xlim=[0.0, 1.0], ylim=[0.0, 1.0])\n",
        "plt.show()"
      ]
    },
    {
      "cell_type": "markdown",
      "metadata": {
        "id": "SYNrTD4gZwBm"
      },
      "source": [
        "#### <font color = forestgreen> c) Can you say something about the performance of this *selected* model with new, unseen data? Explain, how you could you estimate the performance of this selected model. **1p**"
      ]
    },
    {
      "cell_type": "markdown",
      "metadata": {
        "id": "t9PvJUctZwBm"
      },
      "source": [
        "<font color = red> The best accuracy was performed with the k value of 4 (76,9%) and it's the most accurate selection out of other KNNs which have been used for classification in the previous exercises. \n",
        "\n",
        "<font color = red>Sure if it's about new data which is much different from the training data, training should be considered doing again. KNN is such algoritm which doesn't do any calculations or learn any model but do the predictions just-in-time by calculating the similarity between an input sample and each training instance. Because the training style the consistency of the training data should be proper thought through by curating it, updating as new data is available and removing erroneous data and outliers. \n",
        "\n",
        "<font color = red> The performance of the model could be estimated with e.g. different split of data, the metrics of the confusion matrix and the accuracy rates among each classes. The accuracy measure among imbalanced data is quite challenging and can result in misleading interpretation. So in addition,precision, recall and F-score can be calculated with the confusion matrix since it gives TPs, FPs and FNs. \n",
        "\n",
        "<font color = red>Precision is about the number of positive class predictions that actually belong to the positive class. Recall is about the number of positive class predictions made out of all positive examples in dataset. F-score is about providing a single score that balances both the concerns of precision and recall in one number. It's the harmonic mean of these two so it could be considered as a better measure than accuracy. To have a good classifier, the presicion and recall should be closer to 1, which means FPs and FNs are closer to zero. We have printed the metrics but let's repeat where the values come from.\n",
        "\n",
        "\\begin{equation}\n",
        "Precision = \\frac{TP}{TP+FP},  Recall = \\frac{TP}{TP+FN}\n",
        "\\end{equation}\n",
        "\n",
        "<font color = red>Calculating TP, TN, FP and FN values for each class next\n",
        " > <font color = red>Cargo | **TP** = 57 | **TN** = 45+0+0+1 = 46 | **FP** = 13+8 = 21  | **FN** = 10+0 = 10\n",
        " >\n",
        " > <font color = red>Tanker | **TP** = 45 | **TN** = 57+0+8+1 = 66 | **FP** = 10+0 = 10 | **FN** = 13+0 = 13 \n",
        " >\n",
        " > <font color = red>Tug | **TP** = 1 | **TN** = 57+10+13+45 = 125 | **FP** = 10+0 = 10 | **FN** = 0+0 = 0 \n",
        "\n",
        "<font color = red>So the precision and recall values are calculated as \n",
        "\n",
        "\\begin{align*}\n",
        "Cargo \\,| \\, Precision &= \\frac{57}{57+21} = 0,73 \\, | \\, Recall = \\frac{57}{57+10} = 0,85 \\\\\n",
        "Tanker \\,| \\, Precision &= \\frac{45}{45+10} = 0,81 \\, | \\, Recall = \\frac{45}{45+13} = 0,78 \\\\\n",
        "Tug \\,| \\, Precision &= \\frac{1}{1+10} = 0,09 \\, | \\, Recall = \\frac{1}{1+0} = 1\n",
        "\\end{align*}\n",
        "\n",
        "<font color = red>F-score is then \n",
        "\n",
        "\\begin{equation}\n",
        "Fscore = 2*\\frac{Precision \\times Recall}{Precision + Recall}\n",
        "\\end{equation}\n",
        "\n",
        "<font color = red>So to calculate F-score (providing that one number to balance precision and recall) we can calculate them for each class as\n",
        "\n",
        "\\begin{align*}\n",
        "Cargo \\,| \\, Fscore &= 2*\\frac{0,73\\times0,85}{0,73+0,85} = 0,785  \\\\\n",
        "Tanker \\,| \\, Fscore &= 2*\\frac{0,81\\times0,78}{0,81+0,78} = 0,795 \\\\\n",
        "Tug \\,| \\, Fscore &= 2*\\frac{0,09\\times1}{0,09+1} = 0,165\n",
        "\\end{align*}\n",
        "\n",
        "<font color = red> it's kinda obvious to tell that Tug-class (with f-score of 0.20) is a challenging class for the model even tho the precision is 1. The f-scores of Cargo and Tanker were almost the same (0.79, 0.8) so the model performs quite well with them. \n",
        "\n",
        "<font color = red> Other way to illustrate the performance of KNN is the ROC curve which is about the true positive rate (TPR) against false positive rate (FPR). It's printed above. The ROC curve tells about the trade-off between sensitivity and specificity at all classification thresholds, i.e. between benefits and costs. The AUC (the area under the ROC curve) is and indicator how well the KNN soves the problem: the larger the area, the better the solution. The TPR and FPR are defined as\n",
        "\n",
        "\\begin{equation}\n",
        "TPR = \\frac{TP}{TP+FN} = Recall, \\,  FPR = \\frac{FP}{FP+TN}\n",
        "\\end{equation}\n",
        "\n",
        "----\n",
        "\n",
        "Airola, A. 2021. Model selection, evaluation. Lecture notes.\n",
        "\n",
        "Brownlee, Jason. 2020. How to Calculate Precision, Recall and F-Measure for Imbalanced Classification. https://machinelearningmastery.com/precision-recall-and-f-measure-for-imbalanced-classification/ (accessed: 6.11.2021)\n",
        "\n",
        "Brownlee, Jason. 2016. K-Nearest Neighbors for Machine Learning. https://machinelearningmastery.com/k-nearest-neighbors-for-machine-learning/ (accessed: 5.11.2021)\n",
        "\n",
        "Harikrishnan, N.B. 2019. Confusion Matrix, Accuracy, Precision, Recall, F1 Score. https://medium.com/analytics-vidhya/confusion-matrix-accuracy-precision-recall-f1-score-ade299cf63cd (accessed: 6.11.2021)"
      ]
    },
    {
      "cell_type": "markdown",
      "metadata": {
        "id": "9r2v1LEDoDw6"
      },
      "source": [
        "________________\n",
        "### <font color = red>  5. Testing with training data <font color = red> (this should never be done out of this exercise!) </font>"
      ]
    },
    {
      "cell_type": "markdown",
      "metadata": {
        "id": "j6B6L5HWoDw6"
      },
      "source": [
        "- Repeat the previous task but use the whole data for training **2p**\n",
        "- Plot the resulting classification accuracy versus k=1...30. **Include the values from the previous task in the same figure**\n",
        "- Comment your result. **Why** shouldn't you test with training data?"
      ]
    },
    {
      "cell_type": "code",
      "execution_count": null,
      "metadata": {
        "id": "ExWjmjQ5oDw6"
      },
      "outputs": [],
      "source": [
        "### CODE FOR 5: Repeat the previous task but use whole data for training\n",
        "test_accuracies = [] # empty list for accuracies\n",
        "neighbors = range(1,31) # as k = 1....30\n",
        "\n",
        "# For-looping the accuracies of different k values\n",
        "for k in neighbors:\n",
        "  knn_model = KNeighborsClassifier(n_neighbors=k)\n",
        "  \n",
        "  y_testPred, y_testActual = [], []\n",
        "  for train_i, test_i in loo_cv.split(arr_x): #train_i has the all but one datapoint\n",
        "    # Dividing data into training and test sets\n",
        "    X_training, X_testing = arr_x[train_i, :], arr_x[test_i, :] #save train and test split for inputs\n",
        "    Y_training, Y_testing = arr_y[train_i], arr_y[test_i] # save train and test split for outputs\n",
        "    # Training the model\n",
        "    knn_model.fit(arr_x, arr_y) # !! using the whole data for training\n",
        "    # Predicting classes\n",
        "    pred = knn_model.predict(X_testing)\n",
        "    y_testActual.append(Y_testing[0])\n",
        "    y_testPred.append(pred[0])\n",
        "\n",
        "  test_accuracies.append(metrics.accuracy_score(y_testActual, y_testPred))"
      ]
    },
    {
      "cell_type": "code",
      "execution_count": null,
      "metadata": {
        "colab": {
          "base_uri": "https://localhost:8080/",
          "height": 518
        },
        "id": "nbBQekY1oDw6",
        "outputId": "cd86b0f1-4d4b-478d-e4f1-bbfb721ac5eb",
        "scrolled": true
      },
      "outputs": [
        {
          "data": {
            "image/png": "[encoded data removed]",
            "text/plain": [
              "<Figure size 576x576 with 1 Axes>"
            ]
          },
          "metadata": {},
          "output_type": "display_data"
        }
      ],
      "source": [
        "### CODE FOR 5: The plot\n",
        "ax = sns.lineplot(data=test_accuracies, marker='o', color='red', label='Whole data used')\n",
        "sns.lineplot(data=k_accuracies, marker='o', color='green', label='Separate sets')\n",
        "ax.set(title='Training KNN differently', xlabel='Number of k', ylabel='Cross-validation accuracy')\n",
        "plt.legend()\n",
        "plt.show()"
      ]
    },
    {
      "cell_type": "markdown",
      "metadata": {
        "id": "bnm780ZQZwBq"
      },
      "source": [
        "<font color = red> As the plot shows, the overall accuracy of every k value increased. It falsely assumes the k value of 1 performs most accurately, where the model actually is only overfitting. When k = 1, the error rate is always zero for training data, sinec the closes point to any training data point is itself. Choosing k value is about the model generalizing to the new data, not the smallest amount of errors on training data. So in this case, when the model is trained with the whole data set, we are just asking the model to make predictions to data it has already seen.\n",
        "\n",
        "<font color = red>Since machine learning is all about generalizing and being able to apply patterns in training data to new, unseen data, of course the model will perform perfectly, if we use the same data for training **and** testing. It's the same than if a student is prepared for an exam with same set of questions which are included in exam, the student will ace the exam.\n",
        "\n",
        "----------\n",
        "\n",
        "Airola, A. 2021. Principles of Modelling. Lecture notes."
      ]
    }
  ],
  "metadata": {
    "colab": {
      "collapsed_sections": [],
      "provenance": []
    },
    "kernelspec": {
      "display_name": "Python 3",
      "language": "python",
      "name": "python3"
    },
    "language_info": {
      "codemirror_mode": {
        "name": "ipython",
        "version": 3
      },
      "file_extension": ".py",
      "mimetype": "text/x-python",
      "name": "python",
      "nbconvert_exporter": "python",
      "pygments_lexer": "ipython3",
      "version": "3.8.8"
    },
    "toc": {
      "base_numbering": 1,
      "nav_menu": {
        "height": "180px",
        "width": "160px"
      },
      "number_sections": true,
      "sideBar": true,
      "skip_h1_title": true,
      "title_cell": "Table of Contents",
      "title_sidebar": "Contents",
      "toc_cell": false,
      "toc_position": {},
      "toc_section_display": true,
      "toc_window_display": false
    }
  },
  "nbformat": 4,
  "nbformat_minor": 0
}