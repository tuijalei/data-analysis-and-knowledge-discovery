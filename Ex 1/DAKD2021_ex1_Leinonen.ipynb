{
  "cells": [
    {
      "cell_type": "markdown",
      "metadata": {
        "id": "AjEZRpKRRPIv"
      },
      "source": [
        "# Python tutorial\n",
        "Python is a very common programming language in machine learning applications and is used in the exercises of this course. This tutorial is targeted for students that have at least elementary knowledge of programming in any language. In particular, you should know basic concepts such as variables, loops and functions. In this document we see how to use those building blocks in Python programs. We also cover some important packages such as NumPy, Pandas and Matplotlib. If you installed the [Anaconda Distribution](https://www.anaconda.com/distribution/) (Python version 3.x recommended) you should already have those packages, in addition to the Python language itself.\n",
        "\n",
        "**Notes:** 1) There are exercises in the end of this document. 2) A part of the tutorial uses the well-known Iris data set. You can download it [here](https://archive.ics.uci.edu/ml/machine-learning-databases/iris/).\n",
        "\n",
        "## Jupyter Notebook\n",
        "Jupyter Notebook is an easy way to make documents containing both runnable program code and text (markdown). [Tutorials](https://www.dataquest.io/blog/jupyter-notebook-tutorial/) about Jupyter Notebook are easily found on the Internet but we also cover some of the most important concepts here. \n",
        "\n",
        "Notebook documents consist of two kinds of *cells*: *code* and *Markdown*. Code cells contain executable program code and Markdown cells contain text, possibly with images. You can execute the currently selected cell by pressing either **Ctrl+Enter** or **Shift+Enter**. The latter option also selects the next cell, making it easy to execute multiple consecutive cells after each other. These actions can also be found in the menu: Cell -> Run Cells. The entire Notebook can be executed from the menu: Kernel -> Restart & Run All.\n",
        "\n",
        "To add a new cell, press either a (insert *above* the current cell) or b (*below* the current cell) when a cell is selected but not editable. When editing a cell, pressing a or b will of course just add a letter to the document. To stop editing a cell, you may click the border area. To delete a cell, press d (*delete*) *twice*. To turn a cell into a Markdown cell, press m. By pressing y the current cell becomes a code cell.\n",
        "\n",
        "It is possible to execute a cell multiple times or to execute cells in an order that is different from their order in the document. This can be handy when you need to make small changes - there is no need to re-execute everything from the beginning. However, you need to remember that the state of the running program is determined by the order in which you run the cells, not by their order in the document.\n",
        "\n",
        "By pressing h (*help*) you can see what keyboard shortcuts are available. You can also access everything from the menus but it is faster to memorize at least the most commonly used keyboard shortcuts such as adding and executing cells.\n",
        "\n",
        "## Python programming basics\n",
        "As our simplest use case, we can easily compute the values of certain expressions:"
      ]
    },
    {
      "cell_type": "code",
      "execution_count": null,
      "metadata": {
        "colab": {
          "base_uri": "https://localhost:8080/"
        },
        "id": "2HrSzqvkRPIy",
        "outputId": "11578aaa-7d1c-41d1-de60-f2c34859da7f"
      },
      "outputs": [
        {
          "data": {
            "text/plain": [
              "53"
            ]
          },
          "execution_count": 1,
          "metadata": {},
          "output_type": "execute_result"
        }
      ],
      "source": [
        "5 + 8*6 # Execute the cell by pressing Shift+Enter or Ctrl+Enter"
      ]
    },
    {
      "cell_type": "markdown",
      "metadata": {
        "id": "f6t7fMT1RPI4"
      },
      "source": [
        "Using variables is similar to other languages, although in Python there is no separate variable declaration. The data type of a variable depends on what is assigned to it."
      ]
    },
    {
      "cell_type": "code",
      "execution_count": null,
      "metadata": {
        "colab": {
          "base_uri": "https://localhost:8080/"
        },
        "id": "YP603Z95RPI5",
        "outputId": "93ce04af-0ed5-46c9-a6d9-73544d9bb625",
        "scrolled": true
      },
      "outputs": [
        {
          "name": "stdout",
          "output_type": "stream",
          "text": [
            "-2.9\n",
            "0.2\n",
            "a string 5\n",
            "1 -1\n",
            "5 <class 'int'>\n"
          ]
        }
      ],
      "source": [
        "a = 5\n",
        "b, c = -1, 1              # We can assign values to more than one variable at the same time\n",
        "s, x = 'a string', 2.1\n",
        "print(a*b + x*c)\n",
        "print(a**b)               # Exponentiation\n",
        "print(s + ' ' + str(a))   # An explicit conversion of a number to a string is necessary here\n",
        "b, c = c, b               # Swap the values of two variables\n",
        "print(b, c)\n",
        "s = a                     # Now s is no longer a string\n",
        "print(s, type(s))"
      ]
    },
    {
      "cell_type": "markdown",
      "metadata": {
        "id": "UN2mWdU9RPI-"
      },
      "source": [
        "### Conditional statements and loops\n",
        "Conditional statements and loops are similar to most programming languages. The 'for' loop of Python iterates over a collection. To iterate over a range of numeric values, we can use the *range()* function. Range can take a lower limit, an upper limit and a step size as the parameters. If only one parameter is specified, it is the upper limit (which is itself excluded), lower limit is 0 and step size 1."
      ]
    },
    {
      "cell_type": "code",
      "execution_count": null,
      "metadata": {
        "colab": {
          "base_uri": "https://localhost:8080/"
        },
        "id": "-sGo8UjPRPI_",
        "outputId": "92292342-f85f-4794-94ae-6a025202a404"
      },
      "outputs": [
        {
          "name": "stdout",
          "output_type": "stream",
          "text": [
            "Positive\n",
            "\n",
            "-1 1\n",
            "1 1\n",
            "-2 4\n",
            "6 36\n",
            "\n",
            "0\n",
            "1\n",
            "2\n",
            "3\n",
            "4\n",
            "5\n",
            "6\n",
            "7\n",
            "8\n",
            "9\n",
            "\n",
            "-3\n",
            "-1\n",
            "1\n",
            "3\n",
            "5\n",
            "7\n",
            "\n",
            "-3\n",
            "-1\n",
            "1\n",
            "3\n",
            "5\n",
            "7\n"
          ]
        }
      ],
      "source": [
        "if b > 0:                          # A conditional statement\n",
        "    print('Positive')\n",
        "elif b < 0:                        # There can be any number of \"else if\" -branches, including 0\n",
        "    print('Negative')\n",
        "else:                              # At most one \"else\"-branch\n",
        "    print('Zero')\n",
        "    \n",
        "print()\n",
        "    \n",
        "for i in [-1, 1, -2, 6]:           # Iterate over a list\n",
        "    print(i, i**2)\n",
        "    \n",
        "print()\n",
        "    \n",
        "for i in range(10):                # Repeat for i = 0, 1, ..., 9 (the upper limit, 10, is excluded)\n",
        "    print(i)\n",
        "    \n",
        "print()\n",
        "    \n",
        "for i in range(-3, 8, 2):          # Repeat for i = -3, -1, ..., 7\n",
        "    print(i)\n",
        "\n",
        "print()\n",
        "\n",
        "i = -3\n",
        "while i < 8:                       # The same as above but with a while loop\n",
        "    print(i)\n",
        "    i += 2                         # Here we must remember to increase the value of i"
      ]
    },
    {
      "cell_type": "markdown",
      "metadata": {
        "id": "LuoQKJC1RPJD"
      },
      "source": [
        "### Indentation\n",
        "As seen above, in Python code blocks are defined by *indentation*, not by any particular block start and end characters (like '{' and '}' in Java). Some lines need to be ended in a colon (':'), e.g. conditional statements, loops and function definitions.\n",
        "\n",
        "### Functions\n",
        "Functions are defined using the 'def' keyword:"
      ]
    },
    {
      "cell_type": "code",
      "execution_count": null,
      "metadata": {
        "colab": {
          "base_uri": "https://localhost:8080/"
        },
        "id": "U2S2NIsMRPJE",
        "outputId": "76f08581-0f89-41eb-9015-ff05b6fdd458"
      },
      "outputs": [
        {
          "data": {
            "text/plain": [
              "25"
            ]
          },
          "execution_count": 4,
          "metadata": {},
          "output_type": "execute_result"
        }
      ],
      "source": [
        "def f(x):           # A function definition\n",
        "    return x**2\n",
        "\n",
        "f(5)"
      ]
    },
    {
      "cell_type": "markdown",
      "metadata": {
        "id": "PuSdjy7JRPJI"
      },
      "source": [
        "### Data structures\n",
        "The core language provides several data structures, such as 'list', 'tuple' and 'dictionary'. Lists and tuples are simple collections of values. Dictionaries consist of key-value pairs."
      ]
    },
    {
      "cell_type": "code",
      "execution_count": null,
      "metadata": {
        "colab": {
          "base_uri": "https://localhost:8080/"
        },
        "id": "cqycm0ZSRPJI",
        "outputId": "ec57a10d-ddf5-4de3-af0d-4e3277fa9f80"
      },
      "outputs": [
        {
          "name": "stdout",
          "output_type": "stream",
          "text": [
            "[0, 2, 3] (1, 2, 3) {'zero': 0, 'one': 1}\n",
            "2 1\n",
            "(1, 2)\n",
            "(1, 3)\n",
            "(3, 2, 1)\n",
            "[0, 2, 3, 4] {'zero': 0, 'one': 1, 'many': 3}\n"
          ]
        }
      ],
      "source": [
        "l = [1, 2, 3]              # A list\n",
        "t = (1, 2, 3)              # A tuple - similar to a list but cannot be modified after creation\n",
        "l[0] = 0                   # t[0] would not work because tuples are immutable\n",
        "d = {'zero': 0, 'one': 1}  # A dictionary\n",
        "print(l, t, d)\n",
        "print(l[1], d['one'])      # l[1] is the second element of l - first index is 0\n",
        "print(t[0:2])              # Elements at index 0 and 1 (end index is excluded)\n",
        "print(t[0:3:2])            # Start index 0, end index 3, step size 2\n",
        "print(t[::-1])             # Step size -1 (reverse), include all elements (start and end index empty)\n",
        "l.append(4)                # Append an element to the end of a list\n",
        "d['many'] = 3              # Add a new key-value pair to a dictionary\n",
        "print(l, d)"
      ]
    },
    {
      "cell_type": "markdown",
      "metadata": {
        "id": "yHovlbTMRPJN"
      },
      "source": [
        "#### Nice to know, not essential for this course:\n",
        "There are many handy features in Python that you can use to save some work: list comprehensions, filter and map functions, lambda functions (a lambda function is an unnamed function that is defined where it is used). Here are some examples but we won't cover them any further because our needs are quite modest in this course."
      ]
    },
    {
      "cell_type": "code",
      "execution_count": null,
      "metadata": {
        "colab": {
          "base_uri": "https://localhost:8080/"
        },
        "id": "7XM48sVJRPJO",
        "outputId": "a8a6d8dc-7394-4363-ff51-40a06e3d1c53"
      },
      "outputs": [
        {
          "name": "stdout",
          "output_type": "stream",
          "text": [
            "[0, 4, 9, 16] [4, 9, 16]\n",
            "[4, 9, 16]\n",
            "[0, 16, 81, 256]\n"
          ]
        }
      ],
      "source": [
        "l1 = [x**2 for x in l]                   # List comprehension - can replace a loop in many cases\n",
        "l2 = [x**2 for x in l if x > 0]          # List comprehension with some elements omitted\n",
        "print(l1, l2)\n",
        "print(list(filter(lambda x: x > 0, l1))) # Filter: include only positive elements\n",
        "print(list(map(lambda x: x**2, l1)))     # Map: apply a function to all elements of a collection"
      ]
    },
    {
      "cell_type": "markdown",
      "metadata": {
        "id": "-c9IKVzERPJV"
      },
      "source": [
        "## NumPy\n",
        "NumPy provides us with multi-dimensional arrays and methods for working with them. Among the methods are dot products of vectors, matrix products, calculating means and standard deviations, generating random numbers and many, many more. Let's start with the basics:"
      ]
    },
    {
      "cell_type": "code",
      "execution_count": null,
      "metadata": {
        "colab": {
          "base_uri": "https://localhost:8080/"
        },
        "id": "UedZ8_VIRPJW",
        "outputId": "931b56b2-e484-4046-f444-d9830cb47a41"
      },
      "outputs": [
        {
          "name": "stdout",
          "output_type": "stream",
          "text": [
            "0\n",
            "\n",
            "[[ 1  1  1]\n",
            " [ 1 -1  1]\n",
            " [ 1  1 -1]]\n",
            "\n",
            "[6 2 0]\n",
            "\n",
            "[[ 1  2  3]\n",
            " [ 1 -2  3]\n",
            " [ 1  2 -3]]\n",
            "\n",
            "[[ 1  1  1]\n",
            " [ 1 -1  1]\n",
            " [ 1  1 -1]]\n",
            "\n",
            "[[ 0.   0.5  0.5]\n",
            " [ 0.5 -0.5 -0. ]\n",
            " [ 0.5 -0.  -0.5]]\n"
          ]
        }
      ],
      "source": [
        "import numpy as np\n",
        "vec1 = np.array([1, 2, 3])                          # A one-dimensional array (vector)\n",
        "vec2 = np.array([1, 1, -1])\n",
        "print(np.dot(vec1, vec2))                           # Dot product of vectors\n",
        "print()\n",
        "mat = np.array([[1, 1, 1], [1, -1, 1], [1, 1, -1]]) # A two-dimensional array (matrix)\n",
        "print(mat)\n",
        "print()\n",
        "print(mat@vec1)                                     # Matrix product (vec1 is interpreted as a column vector)\n",
        "print()\n",
        "print(mat*vec1)                                     # Element-wise product, with broadcasting\n",
        "print()\n",
        "print(mat.T)                                        # Transpose of a matrix\n",
        "print()\n",
        "print(np.linalg.inv(mat))                           # Inverse of a matrix"
      ]
    },
    {
      "cell_type": "markdown",
      "metadata": {
        "id": "_WPMKBtSSQ93"
      },
      "source": [
        "Note that matrix product is denoted by the symbol @, not by * which is used for scalar multiplication or for element-wise product of the elements of two matrices. For example, if A and B are 3x3-matrices, (A\\*B)[0, 0] = A[0]\\*B[0] whereas (A@B)[0, 0] = A[0, 0]\\*B[0, 0] + A[0, 1]\\*B[1, 0] + A[0, 2]\\*B[2, 0].\n",
        "\n",
        "Above, we used the operator \\* where the left-side object was a matrix, but on the right there was a vector. This works because of an automatically applied mechanism known as *broadcasting*. Conceptually, the vector [1, 2, 3] (here interpreted as a row vector) was repeated three times to get a 3x3-matrix with all rows equal to [1, 2, 3]. The matrix mat was then multiplied element-wise with this new matrix."
      ]
    },
    {
      "cell_type": "markdown",
      "metadata": {
        "id": "4RGdcNjWRPJa"
      },
      "source": [
        "In most applications we don't want to enter the arrays manually as that would be tedious and error-prone. Instead, we may read data (here, the [well-known Iris data set](https://archive.ics.uci.edu/ml/machine-learning-databases/iris/); you need to download iris.data from the page) from a file. If you are using this notebook via Google Colab, you will first need to upload the files you want to use, like this:"
      ]
    },
    {
      "cell_type": "code",
      "execution_count": null,
      "metadata": {
        "colab": {
          "base_uri": "https://localhost:8080/",
          "height": 39,
          "resources": {
            "http://localhost:8080/nbextensions/google.colab/files.js": {
              "data": "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",
              "headers": [
                [
                  "content-type",
                  "application/javascript"
                ]
              ],
              "ok": true,
              "status": 200,
              "status_text": "OK"
            }
          }
        },
        "id": "L7WLfGAeSv1n",
        "outputId": "925cdf20-401d-43f4-858c-196aa2e45325"
      },
      "outputs": [
        {
          "data": {
            "text/html": [
              "\n",
              "     <input type=\"file\" id=\"files-ff30be99-6f21-42d7-9612-310889374645\" name=\"files[]\" multiple disabled\n",
              "        style=\"border:none\" />\n",
              "     <output id=\"result-ff30be99-6f21-42d7-9612-310889374645\">\n",
              "      Upload widget is only available when the cell has been executed in the\n",
              "      current browser session. Please rerun this cell to enable.\n",
              "      </output>\n",
              "      <script src=\"/nbextensions/google.colab/files.js\"></script> "
            ],
            "text/plain": [
              "<IPython.core.display.HTML object>"
            ]
          },
          "metadata": {},
          "output_type": "display_data"
        }
      ],
      "source": [
        "from google.colab import files\n",
        "uploaded = files.upload()"
      ]
    },
    {
      "cell_type": "markdown",
      "metadata": {
        "id": "NntCqw2WSZEO"
      },
      "source": [
        "If you are not using Google Colab, you may proceed directly here:"
      ]
    },
    {
      "cell_type": "code",
      "execution_count": null,
      "metadata": {
        "colab": {
          "base_uri": "https://localhost:8080/",
          "height": 398
        },
        "id": "iX0TLrg8RPJb",
        "outputId": "d0358056-307f-4ca3-92dd-c974d441ad84"
      },
      "outputs": [
        {
          "ename": "OSError",
          "evalue": "ignored",
          "output_type": "error",
          "traceback": [
            "\u001b[0;31m---------------------------------------------------------------------------\u001b[0m",
            "\u001b[0;31mOSError\u001b[0m                                   Traceback (most recent call last)",
            "\u001b[0;32m<ipython-input-9-4f89212f7913>\u001b[0m in \u001b[0;36m<module>\u001b[0;34m()\u001b[0m\n\u001b[0;32m----> 1\u001b[0;31m \u001b[0morig_data\u001b[0m \u001b[0;34m=\u001b[0m \u001b[0mnp\u001b[0m\u001b[0;34m.\u001b[0m\u001b[0mloadtxt\u001b[0m\u001b[0;34m(\u001b[0m\u001b[0;34m'iris.data'\u001b[0m\u001b[0;34m,\u001b[0m \u001b[0mdtype\u001b[0m\u001b[0;34m=\u001b[0m\u001b[0;34m'object'\u001b[0m\u001b[0;34m,\u001b[0m \u001b[0mdelimiter\u001b[0m\u001b[0;34m=\u001b[0m\u001b[0;34m','\u001b[0m\u001b[0;34m)\u001b[0m\u001b[0;34m\u001b[0m\u001b[0;34m\u001b[0m\u001b[0m\n\u001b[0m\u001b[1;32m      2\u001b[0m \u001b[0mprint\u001b[0m\u001b[0;34m(\u001b[0m\u001b[0morig_data\u001b[0m\u001b[0;34m)\u001b[0m\u001b[0;34m\u001b[0m\u001b[0;34m\u001b[0m\u001b[0m\n\u001b[1;32m      3\u001b[0m \u001b[0;31m# We see that only the four first columns are numeric, the fifth is the species. Let's get the\u001b[0m\u001b[0;34m\u001b[0m\u001b[0;34m\u001b[0m\u001b[0;34m\u001b[0m\u001b[0m\n\u001b[1;32m      4\u001b[0m \u001b[0;31m# numeric attributes into one array (contains numbers) and the species into a vector\u001b[0m\u001b[0;34m\u001b[0m\u001b[0;34m\u001b[0m\u001b[0;34m\u001b[0m\u001b[0m\n\u001b[1;32m      5\u001b[0m \u001b[0mX\u001b[0m\u001b[0;34m,\u001b[0m \u001b[0my\u001b[0m \u001b[0;34m=\u001b[0m \u001b[0morig_data\u001b[0m\u001b[0;34m[\u001b[0m\u001b[0;34m:\u001b[0m\u001b[0;34m,\u001b[0m \u001b[0;36m0\u001b[0m\u001b[0;34m:\u001b[0m\u001b[0;36m4\u001b[0m\u001b[0;34m]\u001b[0m\u001b[0;34m.\u001b[0m\u001b[0mastype\u001b[0m\u001b[0;34m(\u001b[0m\u001b[0mfloat\u001b[0m\u001b[0;34m)\u001b[0m\u001b[0;34m,\u001b[0m \u001b[0morig_data\u001b[0m\u001b[0;34m[\u001b[0m\u001b[0;34m:\u001b[0m\u001b[0;34m,\u001b[0m \u001b[0;36m4\u001b[0m\u001b[0;34m]\u001b[0m\u001b[0;34m\u001b[0m\u001b[0;34m\u001b[0m\u001b[0m\n",
            "\u001b[0;32m/usr/local/lib/python3.7/dist-packages/numpy/lib/npyio.py\u001b[0m in \u001b[0;36mloadtxt\u001b[0;34m(fname, dtype, comments, delimiter, converters, skiprows, usecols, unpack, ndmin, encoding, max_rows)\u001b[0m\n\u001b[1;32m    959\u001b[0m             \u001b[0mfname\u001b[0m \u001b[0;34m=\u001b[0m \u001b[0mos_fspath\u001b[0m\u001b[0;34m(\u001b[0m\u001b[0mfname\u001b[0m\u001b[0;34m)\u001b[0m\u001b[0;34m\u001b[0m\u001b[0;34m\u001b[0m\u001b[0m\n\u001b[1;32m    960\u001b[0m         \u001b[0;32mif\u001b[0m \u001b[0m_is_string_like\u001b[0m\u001b[0;34m(\u001b[0m\u001b[0mfname\u001b[0m\u001b[0;34m)\u001b[0m\u001b[0;34m:\u001b[0m\u001b[0;34m\u001b[0m\u001b[0;34m\u001b[0m\u001b[0m\n\u001b[0;32m--> 961\u001b[0;31m             \u001b[0mfh\u001b[0m \u001b[0;34m=\u001b[0m \u001b[0mnp\u001b[0m\u001b[0;34m.\u001b[0m\u001b[0mlib\u001b[0m\u001b[0;34m.\u001b[0m\u001b[0m_datasource\u001b[0m\u001b[0;34m.\u001b[0m\u001b[0mopen\u001b[0m\u001b[0;34m(\u001b[0m\u001b[0mfname\u001b[0m\u001b[0;34m,\u001b[0m \u001b[0;34m'rt'\u001b[0m\u001b[0;34m,\u001b[0m \u001b[0mencoding\u001b[0m\u001b[0;34m=\u001b[0m\u001b[0mencoding\u001b[0m\u001b[0;34m)\u001b[0m\u001b[0;34m\u001b[0m\u001b[0;34m\u001b[0m\u001b[0m\n\u001b[0m\u001b[1;32m    962\u001b[0m             \u001b[0mfencoding\u001b[0m \u001b[0;34m=\u001b[0m \u001b[0mgetattr\u001b[0m\u001b[0;34m(\u001b[0m\u001b[0mfh\u001b[0m\u001b[0;34m,\u001b[0m \u001b[0;34m'encoding'\u001b[0m\u001b[0;34m,\u001b[0m \u001b[0;34m'latin1'\u001b[0m\u001b[0;34m)\u001b[0m\u001b[0;34m\u001b[0m\u001b[0;34m\u001b[0m\u001b[0m\n\u001b[1;32m    963\u001b[0m             \u001b[0mfh\u001b[0m \u001b[0;34m=\u001b[0m \u001b[0miter\u001b[0m\u001b[0;34m(\u001b[0m\u001b[0mfh\u001b[0m\u001b[0;34m)\u001b[0m\u001b[0;34m\u001b[0m\u001b[0;34m\u001b[0m\u001b[0m\n",
            "\u001b[0;32m/usr/local/lib/python3.7/dist-packages/numpy/lib/_datasource.py\u001b[0m in \u001b[0;36mopen\u001b[0;34m(path, mode, destpath, encoding, newline)\u001b[0m\n\u001b[1;32m    193\u001b[0m \u001b[0;34m\u001b[0m\u001b[0m\n\u001b[1;32m    194\u001b[0m     \u001b[0mds\u001b[0m \u001b[0;34m=\u001b[0m \u001b[0mDataSource\u001b[0m\u001b[0;34m(\u001b[0m\u001b[0mdestpath\u001b[0m\u001b[0;34m)\u001b[0m\u001b[0;34m\u001b[0m\u001b[0;34m\u001b[0m\u001b[0m\n\u001b[0;32m--> 195\u001b[0;31m     \u001b[0;32mreturn\u001b[0m \u001b[0mds\u001b[0m\u001b[0;34m.\u001b[0m\u001b[0mopen\u001b[0m\u001b[0;34m(\u001b[0m\u001b[0mpath\u001b[0m\u001b[0;34m,\u001b[0m \u001b[0mmode\u001b[0m\u001b[0;34m,\u001b[0m \u001b[0mencoding\u001b[0m\u001b[0;34m=\u001b[0m\u001b[0mencoding\u001b[0m\u001b[0;34m,\u001b[0m \u001b[0mnewline\u001b[0m\u001b[0;34m=\u001b[0m\u001b[0mnewline\u001b[0m\u001b[0;34m)\u001b[0m\u001b[0;34m\u001b[0m\u001b[0;34m\u001b[0m\u001b[0m\n\u001b[0m\u001b[1;32m    196\u001b[0m \u001b[0;34m\u001b[0m\u001b[0m\n\u001b[1;32m    197\u001b[0m \u001b[0;34m\u001b[0m\u001b[0m\n",
            "\u001b[0;32m/usr/local/lib/python3.7/dist-packages/numpy/lib/_datasource.py\u001b[0m in \u001b[0;36mopen\u001b[0;34m(self, path, mode, encoding, newline)\u001b[0m\n\u001b[1;32m    533\u001b[0m                                       encoding=encoding, newline=newline)\n\u001b[1;32m    534\u001b[0m         \u001b[0;32melse\u001b[0m\u001b[0;34m:\u001b[0m\u001b[0;34m\u001b[0m\u001b[0;34m\u001b[0m\u001b[0m\n\u001b[0;32m--> 535\u001b[0;31m             \u001b[0;32mraise\u001b[0m \u001b[0mIOError\u001b[0m\u001b[0;34m(\u001b[0m\u001b[0;34m\"%s not found.\"\u001b[0m \u001b[0;34m%\u001b[0m \u001b[0mpath\u001b[0m\u001b[0;34m)\u001b[0m\u001b[0;34m\u001b[0m\u001b[0;34m\u001b[0m\u001b[0m\n\u001b[0m\u001b[1;32m    536\u001b[0m \u001b[0;34m\u001b[0m\u001b[0m\n\u001b[1;32m    537\u001b[0m \u001b[0;34m\u001b[0m\u001b[0m\n",
            "\u001b[0;31mOSError\u001b[0m: iris.data not found."
          ]
        }
      ],
      "source": [
        "orig_data = np.loadtxt('iris.data', dtype='object', delimiter=',')\n",
        "print(orig_data)\n",
        "# We see that only the four first columns are numeric, the fifth is the species. Let's get the\n",
        "# numeric attributes into one array (contains numbers) and the species into a vector\n",
        "X, y = orig_data[:, 0:4].astype(float), orig_data[:, 4]\n",
        "print(X, y)"
      ]
    },
    {
      "cell_type": "markdown",
      "metadata": {
        "id": "8c-WckBURPJe"
      },
      "source": [
        "For a description of what the columns represent, see [the Iris data set page](https://archive.ics.uci.edu/ml/datasets/iris) (Attributes)."
      ]
    },
    {
      "cell_type": "code",
      "execution_count": null,
      "metadata": {
        "id": "N47HKNEtRPJf"
      },
      "outputs": [],
      "source": [
        "# We will use the column names later\n",
        "col_names = ['sepal length', 'sepal width', 'petal length', 'petal width', 'class']"
      ]
    },
    {
      "cell_type": "markdown",
      "metadata": {
        "id": "fI4GZsgIRPJj"
      },
      "source": [
        "Let's compute the means of all four attributes. First, for all four classes of the flowers. Then, for Iris setosa only."
      ]
    },
    {
      "cell_type": "code",
      "execution_count": null,
      "metadata": {
        "id": "0_5Yz8OARPJj"
      },
      "outputs": [],
      "source": [
        "X, y = iris.data[:, 0:4].astype(float), iris.data[:, 4]\n",
        "print(np.mean(X, axis=0))\n",
        "print(np.mean(X[y == 'Iris-setosa'], axis=0))"
      ]
    },
    {
      "cell_type": "markdown",
      "metadata": {
        "id": "WSndnIxGRPJo"
      },
      "source": [
        "Here, the parameter 'axis' specifies that we are interested in column-wise means (0 actually means *rows*; one needs to *iterate over all rows* to get the mean value of a column). If we don't specify any axis, we will get the mean of all values of the array.\n",
        "\n",
        "In the second case we created a *Boolean vector* by the condition 'y == 'Iris-setosa''. The condition is *True* for all rows where the flower is of class 'Iris-setosa' and *False* for all other rows. Such a vector can be used to index an array. The result is that a row of the array is included if and only if the Boolean vector contains the value *True* in the corresponding position. The size of the Boolean vector should be equal to the number of rows in the array. We could also use a vector containing the indices of the wanted rows, and such a vector can be obtained using the 'where' function."
      ]
    },
    {
      "cell_type": "code",
      "execution_count": null,
      "metadata": {
        "id": "7ArJ4aTbRPJo"
      },
      "outputs": [],
      "source": [
        "np.mean(X[np.where(y=='Iris-setosa')], axis=0)"
      ]
    },
    {
      "cell_type": "markdown",
      "metadata": {
        "id": "_n1mq9q-RPJs"
      },
      "source": [
        "We can generate many kinds of random sequences with NumPy. This includes samples from various kinds of statistical distributions or randomly selected samples from a given collection, with or without replacement. The latter case, samples from a collection without replacement, are also *permutations*."
      ]
    },
    {
      "cell_type": "code",
      "execution_count": null,
      "metadata": {
        "id": "ka_OtZc3RPJt"
      },
      "outputs": [],
      "source": [
        "print(np.random.uniform(low=1, high=3, size=20))                   # Samples from a uniform distributions\n",
        "shuffled_classes = np.random.choice(y, size=len(y), replace=False) # Random permutation of y\n",
        "print(shuffled_classes)"
      ]
    },
    {
      "cell_type": "markdown",
      "metadata": {
        "id": "4QWO7suURPJx"
      },
      "source": [
        "## Pandas\n",
        "NumPy is a powerful library but for interactively working with tabular data it is not always ideal. For instance, we would quite likely want to *label* our columns in some way so that we don't need to look at a separate vector containing the labels whenever we have forgotten what the columns stand for. We might also want to use those labels as column indices instead of always using numbers from zero to the number of columns minus one. Perhaps we would like to do the same with rows, too.\n",
        "\n",
        "Pandas is a package providing just that and more. The basic data structures of Pandas are Series (1D array, similar to a NumPy vector but item indices (labels) need not be integers) and DataFrame (similar to 2D NumPy array, with freely selectable row and column labels).\n",
        "\n",
        "Let's load the Iris data into a Pandas DataFrame."
      ]
    },
    {
      "cell_type": "code",
      "execution_count": null,
      "metadata": {
        "id": "R9WYFrIURPJ2"
      },
      "outputs": [],
      "source": [
        "import pandas as pd\n",
        "# Way 1: from a file\n",
        "df1 = pd.read_csv('iris.data', names=col_names)\n",
        "# Way 2: from a NumPy array\n",
        "#df2 = pd.DataFrame(orig_data, columns=col_names)\n",
        "print(df1.dtypes)"
      ]
    },
    {
      "cell_type": "markdown",
      "metadata": {
        "id": "p5XcvqivRPJ5"
      },
      "source": [
        "We note that the two ways of getting the data led to different data types of the columns. This is because in the NumPy array all values were of type object. In a Pandas DataFrame different columns can have different data types but in NumPy arrays that is not supported.\n",
        "\n",
        "If we want to work with Pandas instead of NumPy, we would usually prefer the first way. The read_csv funtion of Pandas can also get the names of the columns from the file. Had we omitted 'names=col_names', the first row of the file would have been used as column names. In the present case that does not make sense because the file does not contain column labels. If numbers 0, 1, ... are acceptable as column names, we could omit the names parameter and add a new parameter 'header=None'. If some column contains values that we want to use as row names, we can add the parameter 'index_col= &lt;column number or name&gt;'.\n",
        "\n",
        "Now that we have loaded the data, let's do something with it. Like with NumPy, we can compute row and column means and select rows or columns from the table."
      ]
    },
    {
      "cell_type": "code",
      "execution_count": null,
      "metadata": {
        "id": "FHqdLVWkRPJ6"
      },
      "outputs": [],
      "source": [
        "print(df1.mean()) \n",
        "print(df1.mean(axis=1))          # Row means\n",
        "setosa = df1[df1['class'] == 'Iris-setosa']\n",
        "print(setosa.mean())             # Attribute (column) means for Iris setosa"
      ]
    },
    {
      "cell_type": "markdown",
      "metadata": {
        "id": "V6I64ALoRPJ-"
      },
      "source": [
        "As we saw above, the syntax is slightly different from NumPy when we want to compute, e.g., the means of some columns. Here, mean is a function (method) of the DataFrame object and it is therefore called like 'df1.mean()', whereas in NumPy we used 'np.mean(X, axis=0)'. Also note that with Pandas we did not get the mean of the entire array when we did not specify an axis.\n",
        "\n",
        "We can convert a Pandas DataFrame to a NumPy array. The recommended way to do that depends on Pandas version. In older versions of Pandas one can use df.values, and the newer versions also support a method df.to_numpy()"
      ]
    },
    {
      "cell_type": "code",
      "execution_count": null,
      "metadata": {
        "id": "Kmdo8CtIRPJ-"
      },
      "outputs": [],
      "source": [
        "np.mean(df1.iloc[:, 0:4].values)"
      ]
    },
    {
      "cell_type": "markdown",
      "metadata": {
        "id": "KRDpLtNlRPKC"
      },
      "source": [
        "Here we converted a part of the DataFrame into a NumPy array and then computed the mean of all values.\n",
        "\n",
        "There are many ways to index a DataFrame. One can use df[&lt;column name&gt;], df[Boolean_vector], df.loc[...] and df.iloc[...]. The first two can be a bit confusing at first. This is because the first one selects columns and the second one selects rows, despite the calls looking very similar to each other. Also, in NumPy we can select several rows of an array by a vector of row indices but in Pandas df[vector_of_labels] selects columns (unlike df[Boolean_vector] which selects rows).\n",
        "\n",
        "To select rows or colums by numeric indices instead of row/column labels, one can use df.iloc[rows, columns]. Above, we selected all rows (indices ':' on the first axis) and four first columns (indices '0:4' on the second axis). When using iloc, the labels of the rows and columns are ignored, even if they happen to be numbers.\n",
        "\n",
        "The final way, df.loc[rows, columns] works similarly to iloc but selection is done by row and column labels. One difference is that, for example, df.loc[:, start:end] contains also the column df[end] whereas it is omitted when using iloc. Here are some examples:"
      ]
    },
    {
      "cell_type": "code",
      "execution_count": null,
      "metadata": {
        "id": "ficfnRWURPKC",
        "scrolled": true
      },
      "outputs": [],
      "source": [
        "print(df1['class'])                           # Select a column by name\n",
        "print(df1.iloc[:5, 4])                        # Select 5 rows and one column by index\n",
        "print(df1.iloc[:5, 0:4])                      # Select 5 rows and 4 columns by index\n",
        "print(df1.loc[:5, 'sepal length':'class'])    # Select 5 rows and columns between 'sepal length' and 'class' -\n",
        "                                              # including the column 'class'. Here that selects all columns."
      ]
    },
    {
      "cell_type": "markdown",
      "metadata": {
        "id": "k8th7YKeRPKE"
      },
      "source": [
        "Pandas can also compute correlations and draw scatter plots and histograms for us."
      ]
    },
    {
      "cell_type": "code",
      "execution_count": null,
      "metadata": {
        "id": "m3-lA5QlRPKF"
      },
      "outputs": [],
      "source": [
        "df1.corr()           # Correlations between columns"
      ]
    },
    {
      "cell_type": "code",
      "execution_count": null,
      "metadata": {
        "id": "626JaV73RPKJ"
      },
      "outputs": [],
      "source": [
        "%matplotlib inline\n",
        "# Without the above line the figure may not be shown. This 'magic incantation' is only needed once in a Jupyter\n",
        "# Notebook document, before the first time we draw a figure.\n",
        "\n",
        "pd.plotting.scatter_matrix(df1)"
      ]
    },
    {
      "cell_type": "markdown",
      "metadata": {
        "id": "hv5AdpOsRPKL"
      },
      "source": [
        "Pandas offers many functionalities not covered in this tutorial. For instance, one can make queries involving multiple tables, join tables etc. For more details, see [comparison with SQL](https://pandas.pydata.org/pandas-docs/stable/getting_started/comparison/comparison_with_sql.html). However, we won't need advanced functionality during this course. So, let's proceed to the next topic."
      ]
    },
    {
      "cell_type": "markdown",
      "metadata": {
        "id": "pZZGwSzuRPKM"
      },
      "source": [
        "## Matplotlib\n",
        "When we get a new data set, we usually want to make different kinds of plots to see what is in the data. There are other use cases for plots, too, such as reporting our results in a visual way. Matplotlib is one of many possible tools for visualization. Basic usage of Matplotlib is quite easy but more advanced plotting can be a bit cumbersome. In this course our needs are relatively simple.\n",
        "\n",
        "Let's start by plotting a function of one variable $y=f(x)$."
      ]
    },
    {
      "cell_type": "code",
      "execution_count": null,
      "metadata": {
        "id": "O_52yLjLRPKN"
      },
      "outputs": [],
      "source": [
        "import matplotlib.pyplot as plt \n",
        "\n",
        "x = np.linspace(0, 2*np.pi, 50)\n",
        "y = np.sin(x)\n",
        "\n",
        "plt.plot(x, y, 'o', color='blue')              # Draw points without connecting them by line segments\n",
        "plt.plot(x, y, color='black')                  # Connect consecutive points with line segments"
      ]
    },
    {
      "cell_type": "markdown",
      "metadata": {
        "id": "quHImpYuRPKQ"
      },
      "source": [
        "It is possible to make a plot consisting of several subplots."
      ]
    },
    {
      "cell_type": "code",
      "execution_count": null,
      "metadata": {
        "id": "8-_fyY24RPKR"
      },
      "outputs": [],
      "source": [
        "#plt.subplot(2, 2, 1)\n",
        "#plt.hist(df1['sepal length'])                         # Histogram\n",
        "\n",
        "#plt.subplot(2, 2, 2)\n",
        "#plt.scatter(df1['sepal length'], df1['petal length']) # Scatter plot\n",
        "\n",
        "# Next, we will try plotting a Pandas DataFrame. First we put some data to the DataFrame\n",
        "plt.subplot(2, 2, 3)\n",
        "x2 = np.linspace(10, 20, 500)\n",
        "y2 = np.sin(x2)\n",
        "y3 = np.cos(x2)\n",
        "y4 = y2/x2\n",
        "df = pd.DataFrame(columns=['sin(x)', 'cos(x)', 'sin(x)/x'])\n",
        "df['sin(x)'] = y2\n",
        "df['cos(x)'] = y3\n",
        "df['sin(x)/x'] = y4\n",
        "df = df.set_index(x2)\n",
        "plt.plot(df)                            # Plots all columns of the data frame\n",
        "plt.legend(df.columns)                  # Let's add a legend - although it won't look nice here\n",
        "\n",
        "# If we plot a sequence of y values, the x values will be 0, 1, ... in the plot. Here,\n",
        "# that gives a rather misleading impression of the function we are plotting.\n",
        "plt.subplot(2, 2, 4)\n",
        "plt.plot(df['sin(x)'].values)"
      ]
    },
    {
      "cell_type": "markdown",
      "metadata": {
        "id": "J9OLNnjKRPKU"
      },
      "source": [
        "We can add a title and axis labels to a plot:"
      ]
    },
    {
      "cell_type": "code",
      "execution_count": null,
      "metadata": {
        "id": "Xztd6yiQRPKV"
      },
      "outputs": [],
      "source": [
        "plt.scatter(df1['sepal length'], df1['petal length'])\n",
        "plt.title('Sepal and petal length')\n",
        "plt.xlabel('Sepal length (cm)')\n",
        "plt.ylabel('Petal length (cm)')"
      ]
    },
    {
      "cell_type": "markdown",
      "metadata": {
        "id": "7lCMdVu6RPKZ"
      },
      "source": [
        "If you need to know Matplotlib in greater detail, you might check, for example, [Pyplot tutorial](https://matplotlib.org/3.1.1/tutorials/introductory/pyplot.html#sphx-glr-tutorials-introductory-pyplot-py).\n",
        "\n",
        "But now, it is time for some exercises!\n",
        "\n",
        "(Optional) If you are using Google Colab, start again with uploading the required files 'exercise_data.csv'."
      ]
    },
    {
      "cell_type": "markdown",
      "metadata": {
        "id": "rDSIdFtWYpFc"
      },
      "source": [
        "# <font color = red>Exercises</font>\n",
        "\n",
        "(Optional) If you are using Google Colab, start again with uploading the required files 'exercise_data.csv'."
      ]
    },
    {
      "cell_type": "code",
      "execution_count": null,
      "metadata": {
        "colab": {
          "base_uri": "https://localhost:8080/",
          "height": 74
        },
        "id": "uNTBQ4NHYYh_",
        "outputId": "4cc511ee-6b07-4725-daef-650b588bf68b",
        "scrolled": false
      },
      "outputs": [
        {
          "output_type": "display_data",
          "data": {
            "text/plain": [
              "<IPython.core.display.HTML object>"
            ],
            "text/html": [
              "\n",
              "     <input type=\"file\" id=\"files-18338e02-7496-452d-bfb6-40cf3904d5d6\" name=\"files[]\" multiple disabled\n",
              "        style=\"border:none\" />\n",
              "     <output id=\"result-18338e02-7496-452d-bfb6-40cf3904d5d6\">\n",
              "      Upload widget is only available when the cell has been executed in the\n",
              "      current browser session. Please rerun this cell to enable.\n",
              "      </output>\n",
              "      <script>// Copyright 2017 Google LLC\n",
              "//\n",
              "// Licensed under the Apache License, Version 2.0 (the \"License\");\n",
              "// you may not use this file except in compliance with the License.\n",
              "// You may obtain a copy of the License at\n",
              "//\n",
              "//      http://www.apache.org/licenses/LICENSE-2.0\n",
              "//\n",
              "// Unless required by applicable law or agreed to in writing, software\n",
              "// distributed under the License is distributed on an \"AS IS\" BASIS,\n",
              "// WITHOUT WARRANTIES OR CONDITIONS OF ANY KIND, either express or implied.\n",
              "// See the License for the specific language governing permissions and\n",
              "// limitations under the License.\n",
              "\n",
              "/**\n",
              " * @fileoverview Helpers for google.colab Python module.\n",
              " */\n",
              "(function(scope) {\n",
              "function span(text, styleAttributes = {}) {\n",
              "  const element = document.createElement('span');\n",
              "  element.textContent = text;\n",
              "  for (const key of Object.keys(styleAttributes)) {\n",
              "    element.style[key] = styleAttributes[key];\n",
              "  }\n",
              "  return element;\n",
              "}\n",
              "\n",
              "// Max number of bytes which will be uploaded at a time.\n",
              "const MAX_PAYLOAD_SIZE = 100 * 1024;\n",
              "\n",
              "function _uploadFiles(inputId, outputId) {\n",
              "  const steps = uploadFilesStep(inputId, outputId);\n",
              "  const outputElement = document.getElementById(outputId);\n",
              "  // Cache steps on the outputElement to make it available for the next call\n",
              "  // to uploadFilesContinue from Python.\n",
              "  outputElement.steps = steps;\n",
              "\n",
              "  return _uploadFilesContinue(outputId);\n",
              "}\n",
              "\n",
              "// This is roughly an async generator (not supported in the browser yet),\n",
              "// where there are multiple asynchronous steps and the Python side is going\n",
              "// to poll for completion of each step.\n",
              "// This uses a Promise to block the python side on completion of each step,\n",
              "// then passes the result of the previous step as the input to the next step.\n",
              "function _uploadFilesContinue(outputId) {\n",
              "  const outputElement = document.getElementById(outputId);\n",
              "  const steps = outputElement.steps;\n",
              "\n",
              "  const next = steps.next(outputElement.lastPromiseValue);\n",
              "  return Promise.resolve(next.value.promise).then((value) => {\n",
              "    // Cache the last promise value to make it available to the next\n",
              "    // step of the generator.\n",
              "    outputElement.lastPromiseValue = value;\n",
              "    return next.value.response;\n",
              "  });\n",
              "}\n",
              "\n",
              "/**\n",
              " * Generator function which is called between each async step of the upload\n",
              " * process.\n",
              " * @param {string} inputId Element ID of the input file picker element.\n",
              " * @param {string} outputId Element ID of the output display.\n",
              " * @return {!Iterable<!Object>} Iterable of next steps.\n",
              " */\n",
              "function* uploadFilesStep(inputId, outputId) {\n",
              "  const inputElement = document.getElementById(inputId);\n",
              "  inputElement.disabled = false;\n",
              "\n",
              "  const outputElement = document.getElementById(outputId);\n",
              "  outputElement.innerHTML = '';\n",
              "\n",
              "  const pickedPromise = new Promise((resolve) => {\n",
              "    inputElement.addEventListener('change', (e) => {\n",
              "      resolve(e.target.files);\n",
              "    });\n",
              "  });\n",
              "\n",
              "  const cancel = document.createElement('button');\n",
              "  inputElement.parentElement.appendChild(cancel);\n",
              "  cancel.textContent = 'Cancel upload';\n",
              "  const cancelPromise = new Promise((resolve) => {\n",
              "    cancel.onclick = () => {\n",
              "      resolve(null);\n",
              "    };\n",
              "  });\n",
              "\n",
              "  // Wait for the user to pick the files.\n",
              "  const files = yield {\n",
              "    promise: Promise.race([pickedPromise, cancelPromise]),\n",
              "    response: {\n",
              "      action: 'starting',\n",
              "    }\n",
              "  };\n",
              "\n",
              "  cancel.remove();\n",
              "\n",
              "  // Disable the input element since further picks are not allowed.\n",
              "  inputElement.disabled = true;\n",
              "\n",
              "  if (!files) {\n",
              "    return {\n",
              "      response: {\n",
              "        action: 'complete',\n",
              "      }\n",
              "    };\n",
              "  }\n",
              "\n",
              "  for (const file of files) {\n",
              "    const li = document.createElement('li');\n",
              "    li.append(span(file.name, {fontWeight: 'bold'}));\n",
              "    li.append(span(\n",
              "        `(${file.type || 'n/a'}) - ${file.size} bytes, ` +\n",
              "        `last modified: ${\n",
              "            file.lastModifiedDate ? file.lastModifiedDate.toLocaleDateString() :\n",
              "                                    'n/a'} - `));\n",
              "    const percent = span('0% done');\n",
              "    li.appendChild(percent);\n",
              "\n",
              "    outputElement.appendChild(li);\n",
              "\n",
              "    const fileDataPromise = new Promise((resolve) => {\n",
              "      const reader = new FileReader();\n",
              "      reader.onload = (e) => {\n",
              "        resolve(e.target.result);\n",
              "      };\n",
              "      reader.readAsArrayBuffer(file);\n",
              "    });\n",
              "    // Wait for the data to be ready.\n",
              "    let fileData = yield {\n",
              "      promise: fileDataPromise,\n",
              "      response: {\n",
              "        action: 'continue',\n",
              "      }\n",
              "    };\n",
              "\n",
              "    // Use a chunked sending to avoid message size limits. See b/62115660.\n",
              "    let position = 0;\n",
              "    do {\n",
              "      const length = Math.min(fileData.byteLength - position, MAX_PAYLOAD_SIZE);\n",
              "      const chunk = new Uint8Array(fileData, position, length);\n",
              "      position += length;\n",
              "\n",
              "      const base64 = btoa(String.fromCharCode.apply(null, chunk));\n",
              "      yield {\n",
              "        response: {\n",
              "          action: 'append',\n",
              "          file: file.name,\n",
              "          data: base64,\n",
              "        },\n",
              "      };\n",
              "\n",
              "      let percentDone = fileData.byteLength === 0 ?\n",
              "          100 :\n",
              "          Math.round((position / fileData.byteLength) * 100);\n",
              "      percent.textContent = `${percentDone}% done`;\n",
              "\n",
              "    } while (position < fileData.byteLength);\n",
              "  }\n",
              "\n",
              "  // All done.\n",
              "  yield {\n",
              "    response: {\n",
              "      action: 'complete',\n",
              "    }\n",
              "  };\n",
              "}\n",
              "\n",
              "scope.google = scope.google || {};\n",
              "scope.google.colab = scope.google.colab || {};\n",
              "scope.google.colab._files = {\n",
              "  _uploadFiles,\n",
              "  _uploadFilesContinue,\n",
              "};\n",
              "})(self);\n",
              "</script> "
            ]
          },
          "metadata": {}
        },
        {
          "output_type": "stream",
          "name": "stdout",
          "text": [
            "Saving exercise_data.csv to exercise_data.csv\n"
          ]
        }
      ],
      "source": [
        "from google.colab import files\n",
        "uploaded = files.upload()"
      ]
    },
    {
      "cell_type": "markdown",
      "metadata": {
        "id": "vNrsmeEZRPKa"
      },
      "source": [
        "Use the included data matrix 'exercise_data.csv'. Solve the following exercises.\n",
        "\n",
        "1. Load the data into a Pandas data frame.\n",
        "1. Find all objects of class 1 whose height is over 25 units. Print all of their attributes. *Hint*: you can combine the results of two comparisons using the '&' operator (class is 1 *and* height is over 25). Parentheses may be needed.\n",
        "1. Compute the mean of each attribute for the whole data.\n",
        "1. Make a plot of weights (y axis) vs. heights (x axis).\n",
        "1. Make a plot of weights (y axis) vs. \"size\" (=$height \\cdot width^2$, x axis).\n",
        "1. Like 4-5 but limited to objects of class 1.\n",
        "1. Do you see anything interesting in the plots?"
      ]
    },
    {
      "cell_type": "code",
      "execution_count": null,
      "metadata": {
        "colab": {
          "base_uri": "https://localhost:8080/",
          "height": 424
        },
        "id": "AHWRFqW9RPKb",
        "outputId": "332502b7-5b74-47ce-b159-5773c64c3c3e"
      },
      "outputs": [
        {
          "output_type": "display_data",
          "data": {
            "text/plain": [
              "     Unnamed: 0     height     width      weight  class\n",
              "0             0  18.022890  5.182596   50.527110      1\n",
              "1             1  16.194651  4.383156   28.829918      1\n",
              "2             2  18.150373  4.556691   38.565482      1\n",
              "3             3  13.846924  3.798662   16.413877      1\n",
              "4             4  27.364656  7.777790  166.997659      1\n",
              "..          ...        ...       ...         ...    ...\n",
              "124         124  14.394126  1.623162   20.133995      3\n",
              "125         125  14.715369  1.571027   18.098519      3\n",
              "126         126  14.995934  1.613972   20.634388      3\n",
              "127         127  14.345058  1.604480   18.507403      3\n",
              "128         128  14.879172  1.675843   20.413188      3\n",
              "\n",
              "[129 rows x 5 columns]"
            ],
            "text/html": [
              "\n",
              "  <div id=\"df-1eb81afa-2a32-44e5-899e-eee1b4c07120\">\n",
              "    <div class=\"colab-df-container\">\n",
              "      <div>\n",
              "<style scoped>\n",
              "    .dataframe tbody tr th:only-of-type {\n",
              "        vertical-align: middle;\n",
              "    }\n",
              "\n",
              "    .dataframe tbody tr th {\n",
              "        vertical-align: top;\n",
              "    }\n",
              "\n",
              "    .dataframe thead th {\n",
              "        text-align: right;\n",
              "    }\n",
              "</style>\n",
              "<table border=\"1\" class=\"dataframe\">\n",
              "  <thead>\n",
              "    <tr style=\"text-align: right;\">\n",
              "      <th></th>\n",
              "      <th>Unnamed: 0</th>\n",
              "      <th>height</th>\n",
              "      <th>width</th>\n",
              "      <th>weight</th>\n",
              "      <th>class</th>\n",
              "    </tr>\n",
              "  </thead>\n",
              "  <tbody>\n",
              "    <tr>\n",
              "      <th>0</th>\n",
              "      <td>0</td>\n",
              "      <td>18.022890</td>\n",
              "      <td>5.182596</td>\n",
              "      <td>50.527110</td>\n",
              "      <td>1</td>\n",
              "    </tr>\n",
              "    <tr>\n",
              "      <th>1</th>\n",
              "      <td>1</td>\n",
              "      <td>16.194651</td>\n",
              "      <td>4.383156</td>\n",
              "      <td>28.829918</td>\n",
              "      <td>1</td>\n",
              "    </tr>\n",
              "    <tr>\n",
              "      <th>2</th>\n",
              "      <td>2</td>\n",
              "      <td>18.150373</td>\n",
              "      <td>4.556691</td>\n",
              "      <td>38.565482</td>\n",
              "      <td>1</td>\n",
              "    </tr>\n",
              "    <tr>\n",
              "      <th>3</th>\n",
              "      <td>3</td>\n",
              "      <td>13.846924</td>\n",
              "      <td>3.798662</td>\n",
              "      <td>16.413877</td>\n",
              "      <td>1</td>\n",
              "    </tr>\n",
              "    <tr>\n",
              "      <th>4</th>\n",
              "      <td>4</td>\n",
              "      <td>27.364656</td>\n",
              "      <td>7.777790</td>\n",
              "      <td>166.997659</td>\n",
              "      <td>1</td>\n",
              "    </tr>\n",
              "    <tr>\n",
              "      <th>...</th>\n",
              "      <td>...</td>\n",
              "      <td>...</td>\n",
              "      <td>...</td>\n",
              "      <td>...</td>\n",
              "      <td>...</td>\n",
              "    </tr>\n",
              "    <tr>\n",
              "      <th>124</th>\n",
              "      <td>124</td>\n",
              "      <td>14.394126</td>\n",
              "      <td>1.623162</td>\n",
              "      <td>20.133995</td>\n",
              "      <td>3</td>\n",
              "    </tr>\n",
              "    <tr>\n",
              "      <th>125</th>\n",
              "      <td>125</td>\n",
              "      <td>14.715369</td>\n",
              "      <td>1.571027</td>\n",
              "      <td>18.098519</td>\n",
              "      <td>3</td>\n",
              "    </tr>\n",
              "    <tr>\n",
              "      <th>126</th>\n",
              "      <td>126</td>\n",
              "      <td>14.995934</td>\n",
              "      <td>1.613972</td>\n",
              "      <td>20.634388</td>\n",
              "      <td>3</td>\n",
              "    </tr>\n",
              "    <tr>\n",
              "      <th>127</th>\n",
              "      <td>127</td>\n",
              "      <td>14.345058</td>\n",
              "      <td>1.604480</td>\n",
              "      <td>18.507403</td>\n",
              "      <td>3</td>\n",
              "    </tr>\n",
              "    <tr>\n",
              "      <th>128</th>\n",
              "      <td>128</td>\n",
              "      <td>14.879172</td>\n",
              "      <td>1.675843</td>\n",
              "      <td>20.413188</td>\n",
              "      <td>3</td>\n",
              "    </tr>\n",
              "  </tbody>\n",
              "</table>\n",
              "<p>129 rows × 5 columns</p>\n",
              "</div>\n",
              "      <button class=\"colab-df-convert\" onclick=\"convertToInteractive('df-1eb81afa-2a32-44e5-899e-eee1b4c07120')\"\n",
              "              title=\"Convert this dataframe to an interactive table.\"\n",
              "              style=\"display:none;\">\n",
              "        \n",
              "  <svg xmlns=\"http://www.w3.org/2000/svg\" height=\"24px\"viewBox=\"0 0 24 24\"\n",
              "       width=\"24px\">\n",
              "    <path d=\"M0 0h24v24H0V0z\" fill=\"none\"/>\n",
              "    <path d=\"M18.56 5.44l.94 2.06.94-2.06 2.06-.94-2.06-.94-.94-2.06-.94 2.06-2.06.94zm-11 1L8.5 8.5l.94-2.06 2.06-.94-2.06-.94L8.5 2.5l-.94 2.06-2.06.94zm10 10l.94 2.06.94-2.06 2.06-.94-2.06-.94-.94-2.06-.94 2.06-2.06.94z\"/><path d=\"M17.41 7.96l-1.37-1.37c-.4-.4-.92-.59-1.43-.59-.52 0-1.04.2-1.43.59L10.3 9.45l-7.72 7.72c-.78.78-.78 2.05 0 2.83L4 21.41c.39.39.9.59 1.41.59.51 0 1.02-.2 1.41-.59l7.78-7.78 2.81-2.81c.8-.78.8-2.07 0-2.86zM5.41 20L4 18.59l7.72-7.72 1.47 1.35L5.41 20z\"/>\n",
              "  </svg>\n",
              "      </button>\n",
              "      \n",
              "  <style>\n",
              "    .colab-df-container {\n",
              "      display:flex;\n",
              "      flex-wrap:wrap;\n",
              "      gap: 12px;\n",
              "    }\n",
              "\n",
              "    .colab-df-convert {\n",
              "      background-color: #E8F0FE;\n",
              "      border: none;\n",
              "      border-radius: 50%;\n",
              "      cursor: pointer;\n",
              "      display: none;\n",
              "      fill: #1967D2;\n",
              "      height: 32px;\n",
              "      padding: 0 0 0 0;\n",
              "      width: 32px;\n",
              "    }\n",
              "\n",
              "    .colab-df-convert:hover {\n",
              "      background-color: #E2EBFA;\n",
              "      box-shadow: 0px 1px 2px rgba(60, 64, 67, 0.3), 0px 1px 3px 1px rgba(60, 64, 67, 0.15);\n",
              "      fill: #174EA6;\n",
              "    }\n",
              "\n",
              "    [theme=dark] .colab-df-convert {\n",
              "      background-color: #3B4455;\n",
              "      fill: #D2E3FC;\n",
              "    }\n",
              "\n",
              "    [theme=dark] .colab-df-convert:hover {\n",
              "      background-color: #434B5C;\n",
              "      box-shadow: 0px 1px 3px 1px rgba(0, 0, 0, 0.15);\n",
              "      filter: drop-shadow(0px 1px 2px rgba(0, 0, 0, 0.3));\n",
              "      fill: #FFFFFF;\n",
              "    }\n",
              "  </style>\n",
              "\n",
              "      <script>\n",
              "        const buttonEl =\n",
              "          document.querySelector('#df-1eb81afa-2a32-44e5-899e-eee1b4c07120 button.colab-df-convert');\n",
              "        buttonEl.style.display =\n",
              "          google.colab.kernel.accessAllowed ? 'block' : 'none';\n",
              "\n",
              "        async function convertToInteractive(key) {\n",
              "          const element = document.querySelector('#df-1eb81afa-2a32-44e5-899e-eee1b4c07120');\n",
              "          const dataTable =\n",
              "            await google.colab.kernel.invokeFunction('convertToInteractive',\n",
              "                                                     [key], {});\n",
              "          if (!dataTable) return;\n",
              "\n",
              "          const docLinkHtml = 'Like what you see? Visit the ' +\n",
              "            '<a target=\"_blank\" href=https://colab.research.google.com/notebooks/data_table.ipynb>data table notebook</a>'\n",
              "            + ' to learn more about interactive tables.';\n",
              "          element.innerHTML = '';\n",
              "          dataTable['output_type'] = 'display_data';\n",
              "          await google.colab.output.renderOutput(dataTable, element);\n",
              "          const docLink = document.createElement('div');\n",
              "          docLink.innerHTML = docLinkHtml;\n",
              "          element.appendChild(docLink);\n",
              "        }\n",
              "      </script>\n",
              "    </div>\n",
              "  </div>\n",
              "  "
            ]
          },
          "metadata": {}
        }
      ],
      "source": [
        "# 1 Load the data into a Pandas data frame.\n",
        "import pandas as pd \n",
        "df = pd.read_csv('exercise_data.csv') #reading the file into a df variable\n",
        "display(df) # display the dataframe "
      ]
    },
    {
      "cell_type": "code",
      "execution_count": null,
      "metadata": {
        "colab": {
          "base_uri": "https://localhost:8080/"
        },
        "id": "t3BzyT_0RPKh",
        "outputId": "e20b47f1-c7f1-43d0-a9cc-a623601fa369"
      },
      "outputs": [
        {
          "output_type": "stream",
          "name": "stdout",
          "text": [
            "[  4.          27.36465608   7.77778965 166.99765946   1.        ]\n",
            "[ 16.          25.64049337   6.85287948 122.38859371   1.        ]\n",
            "[ 21.          25.34349814   7.22668246 135.67103845   1.        ]\n",
            "[ 33.          26.89377985   7.62495851 164.28486993   1.        ]\n",
            "[ 44.          32.08554912   9.01602892 263.54278639   1.        ]\n"
          ]
        }
      ],
      "source": [
        "# 2 Find all objects of class 1 whose height is over 25 units. Print all of their attributes. \n",
        "for i in range(len(df)): # let's iterate over the whole list\n",
        "  if df['class'].values[i] == 1 and df['height'].values[i] > 25: # if class is 1 AND height is over 25\n",
        "    print(df.values[i]) # print all attributes"
      ]
    },
    {
      "cell_type": "code",
      "execution_count": null,
      "metadata": {
        "colab": {
          "base_uri": "https://localhost:8080/"
        },
        "id": "ZfD-wN4IRPKn",
        "outputId": "ff776e54-3f83-4083-be5b-132fdf06f861"
      },
      "outputs": [
        {
          "output_type": "stream",
          "name": "stdout",
          "text": [
            "mean for height: 31.938984766908135\n",
            "mean for width: 15.4310085109514\n",
            "mean for weight: 735.2926012543851\n",
            "mean for class: 1.8604651162790697\n",
            "--------------------------------\n",
            "Unnamed: 0     64.000000\n",
            "height         31.938985\n",
            "width          15.431009\n",
            "weight        735.292601\n",
            "class           1.860465\n",
            "dtype: float64\n",
            "--------------------------------\n"
          ]
        },
        {
          "output_type": "execute_result",
          "data": {
            "text/plain": [
              "height     31.938985\n",
              "width      15.431009\n",
              "weight    735.292601\n",
              "class       1.860465\n",
              "dtype: float64"
            ]
          },
          "metadata": {},
          "execution_count": 7
        }
      ],
      "source": [
        "# 3 Compute the mean of each attribute for the whole data.\n",
        "import numpy as np \n",
        "\n",
        "#hard way : ef[<column name>] (excluding ids)\n",
        "print('mean for height:', df['height'].mean()) \n",
        "print('mean for width:', df['width'].mean())\n",
        "print('mean for weight:', df['weight'].mean())\n",
        "print('mean for class:', df['class'].mean())\n",
        "print('--------------------------------')\n",
        "\n",
        "# easier way - list (tho mean for ids is counted too)\n",
        "print(df.mean())\n",
        "print('--------------------------------')\n",
        "\n",
        "# numpy way\n",
        "np.mean(df.iloc[:, 1:len(df.columns)]) #[all rows of each attribute, from 'height' to 'class' column (excluding ids)]"
      ]
    },
    {
      "cell_type": "code",
      "execution_count": null,
      "metadata": {
        "colab": {
          "base_uri": "https://localhost:8080/",
          "height": 349
        },
        "id": "XT1_G5O1RPKq",
        "outputId": "2a24bd1e-1ee3-43f6-8628-5ba71cc9c95a"
      },
      "outputs": [
        {
          "output_type": "stream",
          "name": "stdout",
          "text": [
            "min of weight: 4.81576679009962 and max: 4193.384513370015\n",
            "min of height: 10.873979942072625 and max: 69.25227270474113\n"
          ]
        },
        {
          "output_type": "execute_result",
          "data": {
            "text/plain": [
              "Text(0, 0.5, 'weights')"
            ]
          },
          "metadata": {},
          "execution_count": 14
        },
        {
          "output_type": "display_data",
          "data": {
            "text/plain": [
              "<Figure size 432x288 with 1 Axes>"
            ],
            "image/png": "[encoded data removed]"
          },
          "metadata": {
            "needs_background": "light"
          }
        }
      ],
      "source": [
        "# 4 Make a plot of weights (y axis) vs. heights (x axis).\n",
        "import matplotlib.pyplot as plt \n",
        "\n",
        "# Checking the max and min values of each attribute\n",
        "# just to be sure about the axis values\n",
        "print('min of weight:', min(df['weight']), 'and max:', max(df['weight']))\n",
        "print('min of height:', min(df['height']), 'and max:', max(df['height']))\n",
        "\n",
        "# Scatter plot\n",
        "plt.scatter(df['height'], df['weight']) #Scatter plot of (height, weight)\n",
        "#plt.plot(ef['height'], ef['weight'], 'o') #Could be also used as a scatter plot\n",
        "\n",
        "#Adding title and axis labels\n",
        "plt.title('Weights vs. heights (all classes)')\n",
        "plt.xlabel('heights')\n",
        "plt.ylabel('weights')"
      ]
    },
    {
      "cell_type": "code",
      "execution_count": null,
      "metadata": {
        "colab": {
          "base_uri": "https://localhost:8080/",
          "height": 366
        },
        "id": "e4AuqUARRPKt",
        "outputId": "c6b6c13e-a726-4bf9-f5ce-543b8529940a"
      },
      "outputs": [
        {
          "output_type": "stream",
          "name": "stdout",
          "text": [
            "484.08226070176624\n",
            "129\n",
            "min of sizes: 34.55524062471894 and max: 125802.22015629693\n"
          ]
        },
        {
          "output_type": "execute_result",
          "data": {
            "text/plain": [
              "Text(0, 0.5, 'weights')"
            ]
          },
          "metadata": {},
          "execution_count": 15
        },
        {
          "output_type": "display_data",
          "data": {
            "text/plain": [
              "<Figure size 432x288 with 1 Axes>"
            ],
            "image/png": "[encoded data removed]"
          },
          "metadata": {
            "needs_background": "light"
          }
        }
      ],
      "source": [
        "# 5 Make a plot of weights (y axis) vs. \"size\" (=height⋅width^2, x axis).\n",
        "\n",
        "# Counting sizes\n",
        "sizes = []\n",
        "for i in range(len(df)):\n",
        "  sizes.append((df['height'].values[i]*df['width'].values[i]**2)) # add sizes=height⋅width^2 to a list\n",
        "\n",
        "# Some checking\n",
        "print((df['height'].values[0]*df['width'].values[0]**2)) # 18.022890033770036*5.18259614454256^2 = 484.082260701766...\n",
        "print(len(sizes)) #129\n",
        "print('min of sizes:', min(sizes), 'and max:', max(sizes)) \n",
        "\n",
        "# Scatter plot\n",
        "plt.scatter(sizes, df['weight']) #Scatter plot of (height, weight)\n",
        "\n",
        "# Adding title and axis labels\n",
        "plt.title('Weights vs. sizes (all classes)')\n",
        "plt.xlabel('sizes')\n",
        "plt.ylabel('weights')"
      ]
    },
    {
      "cell_type": "code",
      "execution_count": null,
      "metadata": {
        "colab": {
          "base_uri": "https://localhost:8080/",
          "height": 609
        },
        "id": "JBroLJuuRPKw",
        "outputId": "c67e84b0-450f-4af3-bc1a-a4fd217304ec"
      },
      "outputs": [
        {
          "output_type": "stream",
          "name": "stdout",
          "text": [
            "min of height: 10.873979942072625 and max: 32.08554912449434\n",
            "min of sizes: 103.98785487925888 and max: 2608.195062306586\n"
          ]
        },
        {
          "output_type": "display_data",
          "data": {
            "text/plain": [
              "<Figure size 432x288 with 1 Axes>"
            ],
            "image/png": "[encoded data removed]"
          },
          "metadata": {
            "needs_background": "light"
          }
        },
        {
          "output_type": "display_data",
          "data": {
            "text/plain": [
              "<Figure size 432x288 with 1 Axes>"
            ],
            "image/png": "[encoded data removed]"
          },
          "metadata": {
            "needs_background": "light"
          }
        }
      ],
      "source": [
        "# 6 Like 4-5 but limited to objects of class 1.\n",
        "\n",
        "# Extracting the class 1 attributes\n",
        "all_class1 = df.loc[df['class'] == 1]\n",
        "\n",
        "### Weights (y axis) vs. heights (x axis) ###\n",
        "plt.figure(1) # creates a new figure (to show the both figures at once)\n",
        "plt.title('Weights vs. heights (class 1)')\n",
        "plt.xlabel('heights')\n",
        "plt.ylabel('weights')\n",
        "\n",
        "print('min of height:', min(all_class1['height']), 'and max:', max(all_class1['height']))\n",
        "plt.scatter(all_class1['height'], all_class1['weight']) #Scatter plot of (height, weight)\n",
        "\n",
        "### Weights (y axis) vs. \"size\" (=height⋅width^2, x axis) ###\n",
        "plt.figure(2) # creates another figure\n",
        "plt.title('Weights vs. sizes (class 1)')\n",
        "plt.xlabel('sizes')\n",
        "plt.ylabel('weights')\n",
        "\n",
        "#Counting sizes\n",
        "sizes_class1 = []\n",
        "for i in range(len(all_class1)):\n",
        "  sizes_class1.append((all_class1['height'].values[i]*all_class1['width'].values[i]**2)) # add sizes=height⋅width^2 to a list\n",
        "\n",
        "print('min of sizes:', min(sizes_class1), 'and max:', max(sizes_class1))\n",
        "#Scatter plot\n",
        "plt.scatter(sizes_class1, all_class1['weight']) #Scatter plot of (height, weight)\n",
        "\n",
        "plt.show() #display all figures"
      ]
    },
    {
      "cell_type": "code",
      "execution_count": null,
      "metadata": {
        "colab": {
          "base_uri": "https://localhost:8080/",
          "height": 1000
        },
        "id": "XoDpWJ_gRPK1",
        "outputId": "2bfc1f44-6083-4944-8e9e-9ce197714be2"
      },
      "outputs": [
        {
          "output_type": "display_data",
          "data": {
            "text/plain": [
              "<Figure size 432x288 with 1 Axes>"
            ],
            "image/png": "[encoded data removed]"
          },
          "metadata": {
            "needs_background": "light"
          }
        },
        {
          "output_type": "display_data",
          "data": {
            "text/plain": [
              "<Figure size 432x288 with 1 Axes>"
            ],
            "image/png": "[encoded data removed]"
          },
          "metadata": {
            "needs_background": "light"
          }
        },
        {
          "output_type": "display_data",
          "data": {
            "text/plain": [
              "<Figure size 432x288 with 3 Axes>"
            ],
            "image/png": "[encoded data removed]"
          },
          "metadata": {
            "needs_background": "light"
          }
        },
        {
          "output_type": "display_data",
          "data": {
            "text/plain": [
              "<Figure size 432x288 with 3 Axes>"
            ],
            "image/png": "[encoded data removed]"
          },
          "metadata": {
            "needs_background": "light"
          }
        }
      ],
      "source": [
        "# 7 Do you see anything interesting in the plots?\n",
        "\n",
        "# Let's get them all in one place\n",
        "# Weight vs height - all classes and class 1\n",
        "plt.figure(1)\n",
        "plt.title('Weight vs. Height')\n",
        "plt.xlabel('heights')\n",
        "plt.ylabel('weights')\n",
        "\n",
        "plt.scatter(df['height'], df['weight'], label='all classes')\n",
        "plt.scatter(all_class1['height'], all_class1['weight'], label='class 1')\n",
        "plt.legend() # to show labels\n",
        "\n",
        "# Weight vs sizes - all classes and class 1\n",
        "plt.figure(2)\n",
        "plt.title('Weight vs. Size')\n",
        "plt.xlabel('sizes')\n",
        "plt.ylabel('weights')\n",
        "\n",
        "plt.scatter(sizes, df['weight'], label='all classes')\n",
        "plt.scatter(sizes_class1, all_class1['weight'], label='class 1')\n",
        "plt.legend() # to show labels\n",
        "\n",
        "#-----------------------------------------#\n",
        "# Histograms for curiousity \n",
        "# All class\n",
        "fig, (ax1, ax2, ax3) = plt.subplots(1,3)\n",
        "fig.suptitle('Histograms of all class attributes')\n",
        "\n",
        "ax1.set_title('Weight')\n",
        "ax1.hist(df['weight'])\n",
        "\n",
        "ax2.set_title('Height')\n",
        "ax2.hist(df['height'])\n",
        "\n",
        "ax3.set_title('Size')\n",
        "ax3.hist(sizes)\n",
        "\n",
        "fig.tight_layout(rect=[0, 0.03, 1, 0.95])\n",
        "\n",
        "# Class 1\n",
        "fig2, (ax4, ax5, ax6) = plt.subplots(1,3)\n",
        "fig2.suptitle('Histograms of class 1 attributes')\n",
        "\n",
        "ax4.set_title('Weight')\n",
        "ax4.hist(all_class1['weight'])\n",
        "\n",
        "ax5.set_title('Height')\n",
        "ax5.hist(all_class1['height'])\n",
        "\n",
        "ax6.set_title('Size')\n",
        "ax6.hist(sizes_class1)\n",
        "\n",
        "fig2.tight_layout(rect=[0, 0.03, 1, 0.95])\n",
        "\n",
        "plt.show() # display plots and histograms"
      ]
    },
    {
      "cell_type": "markdown",
      "metadata": {
        "id": "4WFlYLnlrWik"
      },
      "source": [
        "<font color = red>All attributes of class 1 (orange color) are actually smallest ones of all classes (blue color) so they are located in the very beginning of the scatter plot.\n",
        "\n",
        "<font color = red>To notice this, adding them in the same plot helped alot cause of the different axis x length (sizes vs. heights):\n",
        "\n",
        "*   <font color = red>Weights were between approx. [4...4190] (all classes) and approx. [0...260] (class 1) </font>\n",
        "*   <font color = red>Heights were between approx. [10...70] and approx. [10...32]</font>\n",
        "*   <font color = red>Sizes were between approx. [34...125800] and approx. [103...2608]</font>\n",
        "\n",
        "<font color = red>Another interesting note was that the Weight vs Height plot was exponential while the Weight vs Sizes plot was more linear.  There were also two notable gaps in the latter plot, most of the values are concentrated between approx. [200,000...800,000] and only few big values in both plots. \n",
        "\n",
        "<font color = red>Variance of weight seems to increse as height increases. On the other hand, variance is constant in the letter plot."
      ]
    }
  ],
  "metadata": {
    "colab": {
      "collapsed_sections": [],
      "provenance": []
    },
    "kernelspec": {
      "display_name": "Python 3",
      "language": "python",
      "name": "python3"
    },
    "language_info": {
      "codemirror_mode": {
        "name": "ipython",
        "version": 3
      },
      "file_extension": ".py",
      "mimetype": "text/x-python",
      "name": "python",
      "nbconvert_exporter": "python",
      "pygments_lexer": "ipython3",
      "version": "3.8.8"
    }
  },
  "nbformat": 4,
  "nbformat_minor": 0
}